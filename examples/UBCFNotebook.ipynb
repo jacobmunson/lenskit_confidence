{
 "cells": [
  {
   "cell_type": "markdown",
   "metadata": {},
   "source": [
    "UBCF Notebook - Not Confidence-Aware Approach"
   ]
  },
  {
   "cell_type": "code",
   "execution_count": 1,
   "metadata": {},
   "outputs": [],
   "source": [
    "import sys\n",
    "sys.path.insert(0,'C:\\\\Users\\\\Jacob\\\\Documents\\\\GitHub\\\\lenskit_confidence')"
   ]
  },
  {
   "cell_type": "code",
   "execution_count": 2,
   "metadata": {},
   "outputs": [],
   "source": [
    "from lenskit.algorithms import user_knn, Recommender\n",
    "from lenskit.metrics.predict import rmse\n",
    "from lenskit import datasets\n",
    "from lenskit.datasets import MovieLens\n",
    "from lenskit import crossfold as xf\n",
    "from lenskit import batch, topn, datasets\n",
    "from lenskit import topn, util\n",
    "from lenskit.crossfold import partition_users, SampleN, partition_rows\n",
    "import pandas as pd\n",
    "import logging\n",
    "_logger = logging.getLogger()"
   ]
  },
  {
   "cell_type": "code",
   "execution_count": 3,
   "metadata": {},
   "outputs": [],
   "source": [
    "# Load MovieLens data in expected format\n",
    "ratings_df = MovieLens('../data/ml-latest-small')\n",
    "#ratings_df = MovieLens('../data/ml-1m')"
   ]
  },
  {
   "cell_type": "code",
   "execution_count": 4,
   "metadata": {},
   "outputs": [
    {
     "name": "stdout",
     "output_type": "stream",
     "text": [
      "[   INFO] lenskit.util.log notebook logging configured\n"
     ]
    }
   ],
   "source": [
    "util.log_to_notebook()"
   ]
  },
  {
   "cell_type": "code",
   "execution_count": 62,
   "metadata": {},
   "outputs": [],
   "source": [
    "all_recs = []\n",
    "all_preds = []\n",
    "all_test = []"
   ]
  },
  {
   "cell_type": "code",
   "execution_count": 63,
   "metadata": {},
   "outputs": [],
   "source": [
    "num_cv = 5\n",
    "samp = xf.SampleN(5)"
   ]
  },
  {
   "cell_type": "code",
   "execution_count": 64,
   "metadata": {},
   "outputs": [
    {
     "name": "stdout",
     "output_type": "stream",
     "text": [
      "[   INFO] lenskit.crossfold partitioning 100004 ratings into 5 partitions\n"
     ]
    }
   ],
   "source": [
    "pairs = list(partition_rows(ratings_df.ratings, num_cv))\n",
    "#pairs = list(partition_users(ratings_df.ratings, num_cv, samp))"
   ]
  },
  {
   "cell_type": "code",
   "execution_count": 65,
   "metadata": {},
   "outputs": [],
   "source": [
    "#agg_type = 'average'\n",
    "agg_type = 'weighted-average'\n",
    "#agg_type = 'sum'"
   ]
  },
  {
   "cell_type": "code",
   "execution_count": 66,
   "metadata": {},
   "outputs": [],
   "source": [
    "nbhd_sizes = [25] #[10, 25, 50, 100, 150, 250]"
   ]
  },
  {
   "cell_type": "code",
   "execution_count": 67,
   "metadata": {
    "scrolled": true
   },
   "outputs": [
    {
     "name": "stdout",
     "output_type": "stream",
     "text": [
      "[   INFO] root Starting neighborhood size: 25\n",
      "[   INFO] root cv fold: 1\n",
      "1\n",
      "[   INFO] root Training set size: 80003 | Test set size: 20001\n",
      "[   INFO] root Configuring algorithm...\n",
      "[   INFO] lenskit.algorithms.basic trained unrated candidate selector for 80003 ratings\n",
      "Starting prediction process...\n",
      "[   INFO] lenskit.sharing.shm serialized TopN/UserUser(nnbrs=25, min_sim=0) to 1121 pickle bytes with 13 buffers of 2429908 bytes\n",
      "[   INFO] lenskit.util.parallel setting up ProcessPoolExecutor w/ 2 workers\n",
      "[   INFO] lenskit.batch._predict generating 20001 predictions for 670 users (setup took  18ms)\n"
     ]
    },
    {
     "name": "stderr",
     "output_type": "stream",
     "text": [
      "<ipython-input-67-33223d960b13>:10: SettingWithCopyWarning: \n",
      "A value is trying to be set on a copy of a slice from a DataFrame.\n",
      "Try using .loc[row_indexer,col_indexer] = value instead\n",
      "\n",
      "See the caveats in the documentation: https://pandas.pydata.org/pandas-docs/stable/user_guide/indexing.html#returning-a-view-versus-a-copy\n",
      "  test['RunId'] = cv_fold\n"
     ]
    },
    {
     "name": "stdout",
     "output_type": "stream",
     "text": [
      "[   INFO] lenskit.batch._predict generated 20001 predictions for 670 users in 16.57s\n",
      "Starting recommendation process...\n",
      "[   INFO] root Finishing neighborhood size: 25\n",
      "[   INFO] root cv fold: 2\n",
      "2\n",
      "[   INFO] root Training set size: 80003 | Test set size: 20001\n",
      "[   INFO] root Configuring algorithm...\n",
      "[   INFO] lenskit.algorithms.basic trained unrated candidate selector for 80003 ratings\n",
      "Starting prediction process...\n",
      "[   INFO] lenskit.sharing.shm serialized TopN/UserUser(nnbrs=25, min_sim=0) to 1121 pickle bytes with 13 buffers of 2429668 bytes\n",
      "[   INFO] lenskit.util.parallel setting up ProcessPoolExecutor w/ 2 workers\n",
      "[   INFO] lenskit.batch._predict generating 20001 predictions for 671 users (setup took  15ms)\n",
      "[   INFO] lenskit.batch._predict generated 20001 predictions for 671 users in 16.50s\n",
      "Starting recommendation process...\n",
      "[   INFO] root Finishing neighborhood size: 25\n",
      "[   INFO] root cv fold: 3\n",
      "3\n",
      "[   INFO] root Training set size: 80003 | Test set size: 20001\n",
      "[   INFO] root Configuring algorithm...\n",
      "[   INFO] lenskit.algorithms.basic trained unrated candidate selector for 80003 ratings\n",
      "Starting prediction process...\n",
      "[   INFO] lenskit.sharing.shm serialized TopN/UserUser(nnbrs=25, min_sim=0) to 1121 pickle bytes with 13 buffers of 2429708 bytes\n",
      "[   INFO] lenskit.util.parallel setting up ProcessPoolExecutor w/ 2 workers\n",
      "[   INFO] lenskit.batch._predict generating 20001 predictions for 670 users (setup took  10ms)\n",
      "[   INFO] lenskit.batch._predict generated 20001 predictions for 670 users in 14.67s\n",
      "Starting recommendation process...\n",
      "[   INFO] root Finishing neighborhood size: 25\n",
      "[   INFO] root cv fold: 4\n",
      "4\n",
      "[   INFO] root Training set size: 80003 | Test set size: 20001\n",
      "[   INFO] root Configuring algorithm...\n",
      "[   INFO] lenskit.algorithms.basic trained unrated candidate selector for 80003 ratings\n",
      "Starting prediction process...\n",
      "[   INFO] lenskit.sharing.shm serialized TopN/UserUser(nnbrs=25, min_sim=0) to 1121 pickle bytes with 13 buffers of 2429348 bytes\n",
      "[   INFO] lenskit.util.parallel setting up ProcessPoolExecutor w/ 2 workers\n",
      "[   INFO] lenskit.batch._predict generating 20001 predictions for 670 users (setup took  15ms)\n",
      "[   INFO] lenskit.batch._predict generated 20001 predictions for 670 users in 17.57s\n",
      "Starting recommendation process...\n",
      "[   INFO] root Finishing neighborhood size: 25\n",
      "[   INFO] root cv fold: 5\n",
      "5\n",
      "[   INFO] root Training set size: 80004 | Test set size: 20000\n",
      "[   INFO] root Configuring algorithm...\n",
      "[   INFO] lenskit.algorithms.basic trained unrated candidate selector for 80004 ratings\n",
      "Starting prediction process...\n",
      "[   INFO] lenskit.sharing.shm serialized TopN/UserUser(nnbrs=25, min_sim=0) to 1121 pickle bytes with 13 buffers of 2429436 bytes\n",
      "[   INFO] lenskit.util.parallel setting up ProcessPoolExecutor w/ 2 workers\n",
      "[   INFO] lenskit.batch._predict generating 20000 predictions for 670 users (setup took  13ms)\n",
      "[   INFO] lenskit.batch._predict generated 20000 predictions for 670 users in 15.62s\n",
      "Starting recommendation process...\n",
      "[   INFO] root Finishing neighborhood size: 25\n"
     ]
    }
   ],
   "source": [
    "for f in nbhd_sizes:\n",
    "    _logger.info('Starting neighborhood size: %d', f)\n",
    "    cv_fold = 0\n",
    "    for train, test in pairs: #: # # \n",
    "        \n",
    "        cv_fold += 1\n",
    "        _logger.info('cv fold: %d', cv_fold)\n",
    "        print(cv_fold)\n",
    "        #train['RunId'] = cv_fold\n",
    "        test['RunId'] = cv_fold\n",
    "        \n",
    "        _logger.info('Training set size: %d | Test set size: %d', len(train), len(test))\n",
    "        all_test.append(test)\n",
    "        _logger.info('Configuring algorithm...')\n",
    "        # configure the algorithm\n",
    "        ####algo = user_knn.UserUser(nnbrs = f, aggregate = agg_type) # weighted-average # average\n",
    "        algo = user_knn.UserUser(nnbrs = f, aggregate = agg_type) # Confidence-Aware UBCF\n",
    "        ####algo = als.BiasedMF(50)\n",
    "        # make sure it can recommend, not just predict\n",
    "        algo = Recommender.adapt(algo)\n",
    "        \n",
    "        # train the algorithm\n",
    "        algo.fit(train) # [:-1000]\n",
    "        \n",
    "        ###algo.fit(train)\n",
    "        print('Starting prediction process...')\n",
    "        # predict ratings\n",
    "        preds = batch.predict(algo, test)\n",
    "        preds['nnbhrs'] = f\n",
    "        preds['RunId'] = cv_fold\n",
    "        all_preds.append(preds)\n",
    "        print('Starting recommendation process...')\n",
    "        # produce recommendations\n",
    "        ####users = test['user'].unique()\n",
    "        ####recs = batch.recommend(algo, users, 20)\n",
    "        ####all_recs.append(recs)\n",
    "        _logger.info('Finishing neighborhood size: %d', f)"
   ]
  },
  {
   "cell_type": "code",
   "execution_count": 68,
   "metadata": {},
   "outputs": [],
   "source": [
    "##recs = pd.concat(all_recs, ignore_index=True)\n",
    "preds = pd.concat(all_preds, ignore_index=True)\n",
    "test = pd.concat(all_test, ignore_index=True)\n"
   ]
  },
  {
   "cell_type": "code",
   "execution_count": 70,
   "metadata": {},
   "outputs": [
    {
     "data": {
      "text/html": [
       "<div>\n",
       "<style scoped>\n",
       "    .dataframe tbody tr th:only-of-type {\n",
       "        vertical-align: middle;\n",
       "    }\n",
       "\n",
       "    .dataframe tbody tr th {\n",
       "        vertical-align: top;\n",
       "    }\n",
       "\n",
       "    .dataframe thead th {\n",
       "        text-align: right;\n",
       "    }\n",
       "</style>\n",
       "<table border=\"1\" class=\"dataframe\">\n",
       "  <thead>\n",
       "    <tr style=\"text-align: right;\">\n",
       "      <th></th>\n",
       "      <th>user</th>\n",
       "      <th>item</th>\n",
       "      <th>rating</th>\n",
       "      <th>timestamp</th>\n",
       "      <th>RunId</th>\n",
       "      <th>prediction</th>\n",
       "      <th>nnbhrs</th>\n",
       "    </tr>\n",
       "  </thead>\n",
       "  <tbody>\n",
       "    <tr>\n",
       "      <th>0</th>\n",
       "      <td>514</td>\n",
       "      <td>229</td>\n",
       "      <td>3.0</td>\n",
       "      <td>853894449</td>\n",
       "      <td>1</td>\n",
       "      <td>4.019385</td>\n",
       "      <td>25</td>\n",
       "    </tr>\n",
       "    <tr>\n",
       "      <th>1</th>\n",
       "      <td>363</td>\n",
       "      <td>322</td>\n",
       "      <td>2.0</td>\n",
       "      <td>938890637</td>\n",
       "      <td>1</td>\n",
       "      <td>3.913314</td>\n",
       "      <td>25</td>\n",
       "    </tr>\n",
       "    <tr>\n",
       "      <th>2</th>\n",
       "      <td>457</td>\n",
       "      <td>39446</td>\n",
       "      <td>1.5</td>\n",
       "      <td>1471386365</td>\n",
       "      <td>1</td>\n",
       "      <td>2.553097</td>\n",
       "      <td>25</td>\n",
       "    </tr>\n",
       "    <tr>\n",
       "      <th>3</th>\n",
       "      <td>547</td>\n",
       "      <td>1639</td>\n",
       "      <td>0.5</td>\n",
       "      <td>1053173814</td>\n",
       "      <td>1</td>\n",
       "      <td>3.343169</td>\n",
       "      <td>25</td>\n",
       "    </tr>\n",
       "    <tr>\n",
       "      <th>4</th>\n",
       "      <td>15</td>\n",
       "      <td>110553</td>\n",
       "      <td>0.5</td>\n",
       "      <td>1416120149</td>\n",
       "      <td>1</td>\n",
       "      <td>2.388490</td>\n",
       "      <td>25</td>\n",
       "    </tr>\n",
       "    <tr>\n",
       "      <th>...</th>\n",
       "      <td>...</td>\n",
       "      <td>...</td>\n",
       "      <td>...</td>\n",
       "      <td>...</td>\n",
       "      <td>...</td>\n",
       "      <td>...</td>\n",
       "      <td>...</td>\n",
       "    </tr>\n",
       "    <tr>\n",
       "      <th>99999</th>\n",
       "      <td>528</td>\n",
       "      <td>908</td>\n",
       "      <td>4.5</td>\n",
       "      <td>1143757746</td>\n",
       "      <td>5</td>\n",
       "      <td>3.926231</td>\n",
       "      <td>25</td>\n",
       "    </tr>\n",
       "    <tr>\n",
       "      <th>100000</th>\n",
       "      <td>254</td>\n",
       "      <td>231</td>\n",
       "      <td>2.0</td>\n",
       "      <td>845157247</td>\n",
       "      <td>5</td>\n",
       "      <td>3.050746</td>\n",
       "      <td>25</td>\n",
       "    </tr>\n",
       "    <tr>\n",
       "      <th>100001</th>\n",
       "      <td>160</td>\n",
       "      <td>2375</td>\n",
       "      <td>3.0</td>\n",
       "      <td>974257547</td>\n",
       "      <td>5</td>\n",
       "      <td>3.159098</td>\n",
       "      <td>25</td>\n",
       "    </tr>\n",
       "    <tr>\n",
       "      <th>100002</th>\n",
       "      <td>298</td>\n",
       "      <td>101864</td>\n",
       "      <td>4.0</td>\n",
       "      <td>1447368645</td>\n",
       "      <td>5</td>\n",
       "      <td>3.327234</td>\n",
       "      <td>25</td>\n",
       "    </tr>\n",
       "    <tr>\n",
       "      <th>100003</th>\n",
       "      <td>526</td>\n",
       "      <td>85414</td>\n",
       "      <td>3.0</td>\n",
       "      <td>1436545875</td>\n",
       "      <td>5</td>\n",
       "      <td>4.026670</td>\n",
       "      <td>25</td>\n",
       "    </tr>\n",
       "  </tbody>\n",
       "</table>\n",
       "<p>100004 rows × 7 columns</p>\n",
       "</div>"
      ],
      "text/plain": [
       "        user    item  rating   timestamp  RunId  prediction  nnbhrs\n",
       "0        514     229     3.0   853894449      1    4.019385      25\n",
       "1        363     322     2.0   938890637      1    3.913314      25\n",
       "2        457   39446     1.5  1471386365      1    2.553097      25\n",
       "3        547    1639     0.5  1053173814      1    3.343169      25\n",
       "4         15  110553     0.5  1416120149      1    2.388490      25\n",
       "...      ...     ...     ...         ...    ...         ...     ...\n",
       "99999    528     908     4.5  1143757746      5    3.926231      25\n",
       "100000   254     231     2.0   845157247      5    3.050746      25\n",
       "100001   160    2375     3.0   974257547      5    3.159098      25\n",
       "100002   298  101864     4.0  1447368645      5    3.327234      25\n",
       "100003   526   85414     3.0  1436545875      5    4.026670      25\n",
       "\n",
       "[100004 rows x 7 columns]"
      ]
     },
     "execution_count": 70,
     "metadata": {},
     "output_type": "execute_result"
    }
   ],
   "source": [
    "preds\n",
    "#train\n",
    "#test"
   ]
  },
  {
   "cell_type": "code",
   "execution_count": null,
   "metadata": {},
   "outputs": [],
   "source": [
    "preds.loc[preds['prediction'] > 5,'prediction'] = 5\n",
    "preds.loc[preds['prediction'] < 1,'prediction'] = 1\n",
    "\n",
    "#dfd.loc[mask, 'c'] = 42"
   ]
  },
  {
   "cell_type": "code",
   "execution_count": null,
   "metadata": {},
   "outputs": [],
   "source": [
    "preds['prediction'].describe()"
   ]
  },
  {
   "cell_type": "code",
   "execution_count": null,
   "metadata": {},
   "outputs": [],
   "source": [
    "preds[['nnbhrs','var']].groupby(['nnbhrs']).describe()"
   ]
  },
  {
   "cell_type": "code",
   "execution_count": null,
   "metadata": {},
   "outputs": [],
   "source": [
    "preds[['nnbhrs','prediction']].groupby(['nnbhrs']).describe()"
   ]
  },
  {
   "cell_type": "code",
   "execution_count": null,
   "metadata": {},
   "outputs": [],
   "source": [
    "# compute RMSE\n",
    "print('RMSE:', rmse(preds['prediction'], preds['rating'])) \n",
    "\n",
    "# ML100k - partition users - average - RMSE = 0.9157690305188498, 0.91377232782083\n",
    "# ML100k - partition users - weighted-average - RMSE = 0.9185319353148285, 0.9333875278175761\n",
    "# ML100k - partition users - sum - RMSE = 1.3963497485089527\n"
   ]
  },
  {
   "cell_type": "code",
   "execution_count": null,
   "metadata": {},
   "outputs": [],
   "source": [
    "#preds.groupby(['nnbhrs'])['prediction', 'rating'].rmse()\n",
    "preds['err'] = (preds['prediction'] - preds['rating'])**2"
   ]
  },
  {
   "cell_type": "code",
   "execution_count": null,
   "metadata": {},
   "outputs": [],
   "source": [
    "import numpy as np\n",
    "np.sqrt(preds[['err', 'nnbhrs']].groupby(['nnbhrs']).mean() )#.groupby(['nnbhrs']).sqrt() #sqrt()\n",
    "#preds.groupby(['nnbhrs']).sqrt()"
   ]
  },
  {
   "cell_type": "code",
   "execution_count": null,
   "metadata": {},
   "outputs": [],
   "source": []
  }
 ],
 "metadata": {
  "kernelspec": {
   "display_name": "Python 3",
   "language": "python",
   "name": "python3"
  },
  "language_info": {
   "codemirror_mode": {
    "name": "ipython",
    "version": 3
   },
   "file_extension": ".py",
   "mimetype": "text/x-python",
   "name": "python",
   "nbconvert_exporter": "python",
   "pygments_lexer": "ipython3",
   "version": "3.8.3"
  }
 },
 "nbformat": 4,
 "nbformat_minor": 4
}
