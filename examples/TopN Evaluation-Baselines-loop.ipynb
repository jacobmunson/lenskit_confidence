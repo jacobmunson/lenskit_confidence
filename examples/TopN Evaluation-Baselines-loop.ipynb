{
 "cells": [
  {
   "cell_type": "code",
   "execution_count": 1,
   "metadata": {},
   "outputs": [],
   "source": [
    "import sys\n",
    "sys.path.insert(0,'C:\\\\Users\\\\Jacob\\\\Documents\\\\GitHub\\\\lenskit_confidence')"
   ]
  },
  {
   "cell_type": "code",
   "execution_count": 2,
   "metadata": {},
   "outputs": [],
   "source": [
    "from lenskit.metrics import predict\n",
    "import pandas as pd\n",
    "import matplotlib.pyplot as plt\n",
    "\n",
    "from lenskit.batch_ca import MultiEval\n",
    "from lenskit.algorithms_ca import user_knn_ca, Recommender\n",
    "from lenskit.metrics.predict import rmse\n",
    "from lenskit import datasets\n",
    "from lenskit.datasets import MovieLens\n",
    "from lenskit import crossfold as xf\n",
    "from lenskit import topn, datasets, batch_ca # *not* batch \n",
    "from lenskit import topn, util #, metrics\n",
    "from lenskit.crossfold import partition_users, SampleN, partition_rows"
   ]
  },
  {
   "cell_type": "code",
   "execution_count": 3,
   "metadata": {
    "scrolled": true
   },
   "outputs": [
    {
     "name": "stdout",
     "output_type": "stream",
     "text": [
      "[   INFO] lenskit.util.log notebook logging configured\n"
     ]
    }
   ],
   "source": [
    "util.log_to_notebook()"
   ]
  },
  {
   "cell_type": "code",
   "execution_count": 4,
   "metadata": {},
   "outputs": [],
   "source": [
    "data = 'jester' # 'ml10m'"
   ]
  },
  {
   "cell_type": "code",
   "execution_count": 5,
   "metadata": {},
   "outputs": [],
   "source": [
    "path = 'D:\\\\results_conf_aware_nbhd_KDD2021\\\\' + data + '\\\\baselines\\\\'"
   ]
  },
  {
   "cell_type": "code",
   "execution_count": 6,
   "metadata": {},
   "outputs": [],
   "source": [
    "list_lengths = list((1,2,3,4,5,6,7,8,9, 10, 20, 30, 40, 50, 60, 70, 80, 90, 100))"
   ]
  },
  {
   "cell_type": "code",
   "execution_count": null,
   "metadata": {
    "scrolled": true
   },
   "outputs": [
    {
     "name": "stdout",
     "output_type": "stream",
     "text": [
      "1\n",
      "[   INFO] lenskit.topn analyzing 587368 recommendations (367105 truth rows)\n",
      "[   INFO] lenskit.topn using rec key columns ['RunId', 'user']\n",
      "[   INFO] lenskit.topn using truth key columns ['user']\n",
      "[   INFO] lenskit.topn collecting truth data\n"
     ]
    }
   ],
   "source": [
    "for list_length in list_lengths:\n",
    "\n",
    "    print(list_length)\n",
    "\n",
    "    runs = pd.read_csv(path + 'runs.csv')\n",
    "    runs.set_index('RunId', inplace = True)\n",
    "    #runs.head()\n",
    "\n",
    "    recs = pd.read_parquet(path + 'recommendations.parquet')\n",
    "    #del recs['RunId']\n",
    "    #recs.head()\n",
    "\n",
    "    recs = recs[['item', 'score', 'user','rank','RunId']]\n",
    "    #recs.head()\n",
    "\n",
    "    recs = recs[recs['rank'] <= list_length]\n",
    "\n",
    "    truth = pd.read_csv(path + 'truth.csv')\n",
    "    #truth.head()\n",
    "\n",
    "    rla = topn.RecListAnalysis()\n",
    "    rla.add_metric(topn.ndcg) # precision, recall, recip_rank, dcg, ndcg\n",
    "    rla.add_metric(topn.precision)\n",
    "    raw_ndcg = rla.compute(recs, truth)\n",
    "    #raw_ndcg.head()\n",
    "\n",
    "    ### FOR NEIGHBORHOOD-BASED METHODS ONLY ###\n",
    "    ndcg = raw_ndcg.join(runs[['name', 'nnbrs']], on = 'RunId')\n",
    "    #ndcg.head()\n",
    "\n",
    "    ### FOR NEIGHBORHOOD-BASED METHODS ONLY ###\n",
    "    ndcg.fillna(0).groupby(['name', 'nnbrs'])['ndcg','precision'].mean()\n",
    "\n",
    "    ndcg.fillna(0).groupby(['name', 'nnbrs'])['ndcg','precision'].mean().to_csv(path + 'results' + str(eval('list_length')) + '.csv')"
   ]
  }
 ],
 "metadata": {
  "kernelspec": {
   "display_name": "Python 3",
   "language": "python",
   "name": "python3"
  },
  "language_info": {
   "codemirror_mode": {
    "name": "ipython",
    "version": 3
   },
   "file_extension": ".py",
   "mimetype": "text/x-python",
   "name": "python",
   "nbconvert_exporter": "python",
   "pygments_lexer": "ipython3",
   "version": "3.8.3"
  }
 },
 "nbformat": 4,
 "nbformat_minor": 4
}
