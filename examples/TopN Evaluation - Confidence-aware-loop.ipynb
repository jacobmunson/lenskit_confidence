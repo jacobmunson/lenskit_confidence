{
 "cells": [
  {
   "cell_type": "markdown",
   "metadata": {},
   "source": [
    "This is a notebook for processing TopN results for Confidence-aware Models CUBCF, CIBCF"
   ]
  },
  {
   "cell_type": "code",
   "execution_count": null,
   "metadata": {},
   "outputs": [],
   "source": [
    "import sys # set path of locally installed lenskit_confidence module\n",
    "sys.path.insert(0,'C:\\\\Users\\\\Name\\\\Documents\\\\GitHub\\\\lenskit_confidence')"
   ]
  },
  {
   "cell_type": "code",
   "execution_count": null,
   "metadata": {},
   "outputs": [],
   "source": [
    "import pandas as pd\n",
    "from lenskit import topn, util"
   ]
  },
  {
   "cell_type": "code",
   "execution_count": null,
   "metadata": {},
   "outputs": [],
   "source": [
    "util.log_to_notebook() # let notebook print updates from functions"
   ]
  },
  {
   "cell_type": "code",
   "execution_count": null,
   "metadata": {},
   "outputs": [],
   "source": [
    "data = 'ml10m' # Specify dataset to process - 'ml1m', 'ml10m', 'ml20m', 'jester', etc... "
   ]
  },
  {
   "cell_type": "code",
   "execution_count": null,
   "metadata": {},
   "outputs": [],
   "source": [
    "# Specify which model results are being analyzed\n",
    "#model = 'CIBCF'\n",
    "model = 'CUBCF_500'"
   ]
  },
  {
   "cell_type": "code",
   "execution_count": null,
   "metadata": {},
   "outputs": [],
   "source": [
    "path = 'D:\\\\results_conf_aware_nbhd_KDD2021\\\\' + data + '\\\\confidence_aware\\\\' + model + '\\\\'  # where are results stored?"
   ]
  },
  {
   "cell_type": "code",
   "execution_count": null,
   "metadata": {},
   "outputs": [],
   "source": [
    "list_lengths = list((1,2,3,4,5,6,7,8,9,10)) # what list size are we looking at? \n",
    "# For example, if you produce 10 recommendations per user, we want to look at metrics@k for k in {1,...,10}\n",
    "new_r0 = 4 # CUBCF and CIBCF scripts have default r0 = 4.5; this is for \"undoing\" that so we can analyze different r0 values\n",
    "num_jobs = 4 # how many workers to set up"
   ]
  },
  {
   "cell_type": "code",
   "execution_count": null,
   "metadata": {},
   "outputs": [],
   "source": [
    "# Output information from the models runs\n",
    "# Should be in the \"path\" directory specified above\n",
    "runs = pd.read_csv(path + 'runs.csv')\n",
    "runs.set_index('RunId', inplace = True)\n",
    "truth = pd.read_csv(path + 'truth.csv')\n",
    "truth = truth[['user', 'item', 'rating']]"
   ]
  },
  {
   "cell_type": "code",
   "execution_count": null,
   "metadata": {
    "scrolled": true
   },
   "outputs": [],
   "source": [
    "for list_length in list_lengths: # a simple loop to compute TopN results for each list length\n",
    "    print(list_length)\n",
    "    recs = pd.read_parquet(path + 'recommendations.parquet')\n",
    "    recs['prediction'] = (recs['prediction']*recs['var']) + 4.5\n",
    "    recs['score'] = (recs['prediction'] - new_r0)/recs['var']\n",
    "    recs['rank'] = recs.groupby(['user', 'num_nbhr'])['score'].rank(\"dense\", ascending = False)\n",
    "    #recs['score'] = recs['prediction']\n",
    "    recs = recs[['item', 'score', 'user','rank','RunId']]\n",
    "    recs = recs[recs['rank'] <= list_length]\n",
    "    rla = topn.RecListAnalysis(n_jobs = num_jobs)\n",
    "    rla.add_metric(topn.ndcg) # precision, recall, recip_rank, dcg, ndcg\n",
    "    rla.add_metric(topn.precision)\n",
    "    topn_compute = rla.compute(recs, truth)\n",
    "    topn_results = topn_compute.join(runs[['name', 'nnbrs']], on = 'RunId')\n",
    "    #ndcg.fillna(0).groupby(['name', 'nnbrs'])['ndcg','precision'].mean()\n",
    "    topn_results.fillna(0).groupby(['name', 'nnbrs'])['ndcg','precision'].mean().to_csv(path + 'results' + str(eval('list_length')) + '.csv')"
   ]
  }
 ],
 "metadata": {
  "kernelspec": {
   "display_name": "Python 3",
   "language": "python",
   "name": "python3"
  },
  "language_info": {
   "codemirror_mode": {
    "name": "ipython",
    "version": 3
   },
   "file_extension": ".py",
   "mimetype": "text/x-python",
   "name": "python",
   "nbconvert_exporter": "python",
   "pygments_lexer": "ipython3",
   "version": "3.8.3"
  }
 },
 "nbformat": 4,
 "nbformat_minor": 4
}
