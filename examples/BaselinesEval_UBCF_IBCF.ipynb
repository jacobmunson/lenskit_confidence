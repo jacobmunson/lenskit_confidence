{
 "cells": [
  {
   "cell_type": "markdown",
   "metadata": {},
   "source": [
    "# UBCF & IBCF - Baseline Model Runs"
   ]
  },
  {
   "cell_type": "markdown",
   "metadata": {},
   "source": [
    "Much is this structure and organization is borrowed from the Lenskit sample evaluation walkthrough"
   ]
  },
  {
   "cell_type": "markdown",
   "metadata": {},
   "source": [
    "## Setup"
   ]
  },
  {
   "cell_type": "code",
   "execution_count": 1,
   "metadata": {},
   "outputs": [],
   "source": [
    "import sys # set path of locally install lenskit_confidence module\n",
    "sys.path.insert(0,'C:\\\\Users\\\\Jacob\\\\Documents\\\\GitHub\\\\lenskit_confidence') # Looks like this on my machine"
   ]
  },
  {
   "cell_type": "code",
   "execution_count": 2,
   "metadata": {},
   "outputs": [],
   "source": [
    "from lenskit.batch import MultiEval\n",
    "from lenskit.crossfold import partition_users, SampleN\n",
    "from lenskit.algorithms import item_knn, user_knn\n",
    "from lenskit.datasets import MovieLens\n",
    "from lenskit import topn, util \n",
    "from lenskit.metrics import predict\n",
    "import pandas as pd\n",
    "import matplotlib.pyplot as plt\n",
    "import numpy as np"
   ]
  },
  {
   "cell_type": "markdown",
   "metadata": {},
   "source": [
    "Setting up a progress bar..."
   ]
  },
  {
   "cell_type": "code",
   "execution_count": 3,
   "metadata": {},
   "outputs": [
    {
     "name": "stderr",
     "output_type": "stream",
     "text": [
      "C:\\Users\\Jacob\\anaconda3\\lib\\site-packages\\tqdm\\std.py:668: FutureWarning: The Panel class is removed from pandas. Accessing it from the top-level namespace will also be removed in the next version\n",
      "  from pandas import Panel\n"
     ]
    }
   ],
   "source": [
    "from tqdm.notebook import tqdm_notebook as tqdm\n",
    "tqdm.pandas()"
   ]
  },
  {
   "cell_type": "markdown",
   "metadata": {},
   "source": [
    "Setup logging to the notebook..."
   ]
  },
  {
   "cell_type": "code",
   "execution_count": 4,
   "metadata": {},
   "outputs": [
    {
     "name": "stdout",
     "output_type": "stream",
     "text": [
      "[   INFO] lenskit.util.log notebook logging configured\n"
     ]
    }
   ],
   "source": [
    "util.log_to_notebook()"
   ]
  },
  {
   "cell_type": "markdown",
   "metadata": {},
   "source": [
    "Pick a dataset to run..."
   ]
  },
  {
   "cell_type": "code",
   "execution_count": 5,
   "metadata": {},
   "outputs": [],
   "source": [
    "data = MovieLens('../data/ml-1m')\n",
    "#data = MovieLens('../data/ml-10m')\n",
    "#data = MovieLens('../data/ml-20m')\n",
    "#data = MovieLens('../data/jester')"
   ]
  },
  {
   "cell_type": "markdown",
   "metadata": {},
   "source": [
    "## Experiment"
   ]
  },
  {
   "cell_type": "markdown",
   "metadata": {},
   "source": [
    "Run experiment and store output in the `my-eval` directory. \n",
    "\n",
    "We're not producing prediction, generating 10-item recommendation lists, and setting up 4 workers."
   ]
  },
  {
   "cell_type": "code",
   "execution_count": 6,
   "metadata": {},
   "outputs": [],
   "source": [
    "eval = MultiEval('my-eval', predict = False, recommend = 20, eval_n_jobs = 4) "
   ]
  },
  {
   "cell_type": "markdown",
   "metadata": {},
   "source": [
    "We'll use 5-fold CV, partitioning users and putting 5 ratings per user in the test set.  "
   ]
  },
  {
   "cell_type": "code",
   "execution_count": 7,
   "metadata": {
    "scrolled": true
   },
   "outputs": [
    {
     "name": "stdout",
     "output_type": "stream",
     "text": [
      "[   INFO] lenskit.crossfold partitioning 1000209 rows for 6040 users into 5 partitions\n",
      "[   INFO] lenskit.crossfold fold 0: selecting test ratings\n",
      "[   INFO] lenskit.crossfold fold 0: partitioning training data\n",
      "[   INFO] lenskit.crossfold fold 1: selecting test ratings\n",
      "[   INFO] lenskit.crossfold fold 1: partitioning training data\n",
      "[   INFO] lenskit.crossfold fold 2: selecting test ratings\n",
      "[   INFO] lenskit.crossfold fold 2: partitioning training data\n",
      "[   INFO] lenskit.crossfold fold 3: selecting test ratings\n",
      "[   INFO] lenskit.crossfold fold 3: partitioning training data\n",
      "[   INFO] lenskit.crossfold fold 4: selecting test ratings\n",
      "[   INFO] lenskit.crossfold fold 4: partitioning training data\n"
     ]
    }
   ],
   "source": [
    "pairs = list(partition_users(data.ratings, 5, SampleN(5)))"
   ]
  },
  {
   "cell_type": "markdown",
   "metadata": {},
   "source": [
    "Add the dataset to MultiEval with `add_datasets`."
   ]
  },
  {
   "cell_type": "code",
   "execution_count": 8,
   "metadata": {},
   "outputs": [],
   "source": [
    "eval.add_datasets(pairs, name = 'ML1M') # give the added dataset a name"
   ]
  },
  {
   "cell_type": "code",
   "execution_count": 9,
   "metadata": {},
   "outputs": [],
   "source": [
    "nhbr_range = [25] # We'll use just K=25 for our sample evaluation "
   ]
  },
  {
   "cell_type": "markdown",
   "metadata": {},
   "source": [
    "Add the algorithms to MultiEval with `add_algorithms`; the three CIBCF options are listed"
   ]
  },
  {
   "cell_type": "markdown",
   "metadata": {},
   "source": [
    "UBCF"
   ]
  },
  {
   "cell_type": "code",
   "execution_count": 10,
   "metadata": {},
   "outputs": [],
   "source": [
    "eval.add_algorithms([user_knn.UserUser(nnbrs = f, aggregate = 'average') for f in nhbr_range], \n",
    "                    attrs = ['nnbrs'], name = 'UserKNN-Average')"
   ]
  },
  {
   "cell_type": "markdown",
   "metadata": {},
   "source": [
    "IBCF"
   ]
  },
  {
   "cell_type": "code",
   "execution_count": 11,
   "metadata": {},
   "outputs": [],
   "source": [
    "eval.add_algorithms([item_knn.ItemItem(nnbrs = f, aggregate = 'average') for f in nhbr_range], \n",
    "                    attrs = ['nnbrs'], name = 'ItemKNN-Average')"
   ]
  },
  {
   "cell_type": "markdown",
   "metadata": {},
   "source": [
    "Run the experiment..."
   ]
  },
  {
   "cell_type": "code",
   "execution_count": 12,
   "metadata": {
    "scrolled": true
   },
   "outputs": [
    {
     "data": {
      "application/vnd.jupyter.widget-view+json": {
       "model_id": "1f904230a3714c1ebb400a0638d1d9e8",
       "version_major": 2,
       "version_minor": 0
      },
      "text/plain": [
       "HBox(children=(FloatProgress(value=0.0, max=10.0), HTML(value='')))"
      ]
     },
     "metadata": {},
     "output_type": "display_data"
    },
    {
     "name": "stdout",
     "output_type": "stream",
     "text": [
      "[   INFO] lenskit.batch._multi starting run 1: UserUser(nnbrs=25, min_sim=0) on ML1M:1\n",
      "[   INFO] lenskit.batch._multi adapting UserUser(nnbrs=25, min_sim=0) into a recommender\n",
      "[   INFO] lenskit.batch._multi training algorithm UserUser(nnbrs=25, min_sim=0) on 994169 ratings\n",
      "[   INFO] lenskit.algorithms.basic trained unrated candidate selector for 994169 ratings\n",
      "[   INFO] lenskit.batch._multi trained algorithm UserUser(nnbrs=25, min_sim=0) in 6.29s\n",
      "[   INFO] lenskit.batch._multi generating recommendations for 1208 users for TopN/UserUser(nnbrs=25, min_sim=0)\n",
      "[   INFO] lenskit.sharing.shm serialized TopN/UserUser(nnbrs=25, min_sim=0) to 1112 pickle bytes with 13 buffers of 28104104 bytes\n",
      "[   INFO] lenskit.util.parallel setting up ProcessPoolExecutor w/ 4 workers\n",
      "[   INFO] lenskit.batch._recommend recommending with TopN/UserUser(nnbrs=25, min_sim=0) for 1208 users (n_jobs=4)\n",
      "[   INFO] lenskit.batch._recommend recommended for 1208 users in 25.61s\n",
      "[   INFO] lenskit.batch._multi generated recommendations in 26.34s\n",
      "[   INFO] lenskit.batch._multi run 1: writing results to my-eval\\recommendations.parquet\n",
      "[   INFO] lenskit.batch._multi finished run 1: UserUser(nnbrs=25, min_sim=0) on ML1M:1\n",
      "[   INFO] lenskit.batch._multi starting run 2: ItemItem(nnbrs=25, msize=None) on ML1M:1\n",
      "[   INFO] lenskit.batch._multi adapting ItemItem(nnbrs=25, msize=None) into a recommender\n",
      "[   INFO] lenskit.batch._multi training algorithm ItemItem(nnbrs=25, msize=None) on 994169 ratings\n",
      "[   INFO] lenskit.algorithms.item_knn [ 189ms] made sparse matrix for 3704 items (994169 ratings from 6040 users)\n",
      "[   INFO] lenskit.algorithms.item_knn [ 292ms] computed means for 3704 items\n",
      "[   INFO] lenskit.algorithms.item_knn [ 431ms] normalized rating matrix columns\n",
      "[   INFO] lenskit.algorithms.item_knn [ 435ms] computing similarity matrix\n",
      "[   INFO] lenskit.algorithms.item_knn [ 512ms] splitting 3704 items (993296 ratings) into 4 blocks\n",
      "[   INFO] numba.core.transforms finding looplift candidates\n",
      "[   INFO] lenskit.algorithms.item_knn [8.59s] computed 7920472 similarities for 3704 items in 4 blocks\n",
      "[   INFO] lenskit.algorithms.item_knn [8.70s] sorting similarity matrix with 7920472 entries\n",
      "[   INFO] lenskit.algorithms.item_knn [11.11s] got neighborhoods for 3557 of 3704 items\n",
      "[   INFO] lenskit.algorithms.item_knn [11.11s] computed 7920472 neighbor pairs\n",
      "[   INFO] lenskit.algorithms.item_knn [11.96s] transposed matrix for optimization\n",
      "[   INFO] lenskit.algorithms.basic trained unrated candidate selector for 994169 ratings\n",
      "[   INFO] lenskit.batch._multi trained algorithm ItemItem(nnbrs=25, msize=None) in 12.14s\n",
      "[   INFO] lenskit.batch._multi generating recommendations for 1208 users for TopN/ItemItem(nnbrs=25, msize=None)\n",
      "[   INFO] lenskit.sharing.shm serialized TopN/ItemItem(nnbrs=25, msize=None) to 1332 pickle bytes with 17 buffers of 206320808 bytes\n",
      "[   INFO] lenskit.util.parallel setting up ProcessPoolExecutor w/ 4 workers\n",
      "[   INFO] lenskit.batch._recommend recommending with TopN/ItemItem(nnbrs=25, msize=None) for 1208 users (n_jobs=4)\n",
      "[   INFO] lenskit.batch._recommend recommended for 1208 users in 25.38s\n",
      "[   INFO] lenskit.batch._multi generated recommendations in 26.23s\n",
      "[   INFO] lenskit.batch._multi run 2: writing results to my-eval\\recommendations.parquet\n",
      "[   INFO] lenskit.batch._multi finished run 2: ItemItem(nnbrs=25, msize=None) on ML1M:1\n",
      "[   INFO] lenskit.batch._multi starting run 3: UserUser(nnbrs=25, min_sim=0) on ML1M:2\n",
      "[   INFO] lenskit.batch._multi adapting UserUser(nnbrs=25, min_sim=0) into a recommender\n",
      "[   INFO] lenskit.batch._multi training algorithm UserUser(nnbrs=25, min_sim=0) on 994169 ratings\n",
      "[   INFO] lenskit.algorithms.basic trained unrated candidate selector for 994169 ratings\n",
      "[   INFO] lenskit.batch._multi trained algorithm UserUser(nnbrs=25, min_sim=0) in  480ms\n",
      "[   INFO] lenskit.batch._multi generating recommendations for 1208 users for TopN/UserUser(nnbrs=25, min_sim=0)\n",
      "[   INFO] lenskit.sharing.shm serialized TopN/UserUser(nnbrs=25, min_sim=0) to 1112 pickle bytes with 13 buffers of 28104104 bytes\n",
      "[   INFO] lenskit.util.parallel setting up ProcessPoolExecutor w/ 4 workers\n",
      "[   INFO] lenskit.batch._recommend recommending with TopN/UserUser(nnbrs=25, min_sim=0) for 1208 users (n_jobs=4)\n",
      "[   INFO] lenskit.batch._recommend recommended for 1208 users in 27.48s\n",
      "[   INFO] lenskit.batch._multi generated recommendations in 28.16s\n",
      "[   INFO] lenskit.batch._multi run 3: writing results to my-eval\\recommendations.parquet\n",
      "[   INFO] lenskit.batch._multi finished run 3: UserUser(nnbrs=25, min_sim=0) on ML1M:2\n",
      "[   INFO] lenskit.batch._multi starting run 4: ItemItem(nnbrs=25, msize=None) on ML1M:2\n",
      "[   INFO] lenskit.batch._multi adapting ItemItem(nnbrs=25, msize=None) into a recommender\n",
      "[   INFO] lenskit.batch._multi training algorithm ItemItem(nnbrs=25, msize=None) on 994169 ratings\n",
      "[   INFO] lenskit.algorithms.item_knn [ 200ms] made sparse matrix for 3704 items (994169 ratings from 6040 users)\n",
      "[   INFO] lenskit.algorithms.item_knn [ 287ms] computed means for 3704 items\n",
      "[   INFO] lenskit.algorithms.item_knn [ 404ms] normalized rating matrix columns\n",
      "[   INFO] lenskit.algorithms.item_knn [ 407ms] computing similarity matrix\n",
      "[   INFO] lenskit.algorithms.item_knn [ 468ms] splitting 3704 items (992984 ratings) into 4 blocks\n",
      "[   INFO] lenskit.algorithms.item_knn [4.42s] computed 7917634 similarities for 3704 items in 4 blocks\n",
      "[   INFO] lenskit.algorithms.item_knn [4.52s] sorting similarity matrix with 7917634 entries\n",
      "[   INFO] lenskit.algorithms.item_knn [4.80s] got neighborhoods for 3560 of 3704 items\n",
      "[   INFO] lenskit.algorithms.item_knn [4.80s] computed 7917634 neighbor pairs\n",
      "[   INFO] lenskit.algorithms.item_knn [5.22s] transposed matrix for optimization\n",
      "[   INFO] lenskit.algorithms.basic trained unrated candidate selector for 994169 ratings\n",
      "[   INFO] lenskit.batch._multi trained algorithm ItemItem(nnbrs=25, msize=None) in 5.41s\n",
      "[   INFO] lenskit.batch._multi generating recommendations for 1208 users for TopN/ItemItem(nnbrs=25, msize=None)\n",
      "[   INFO] lenskit.sharing.shm serialized TopN/ItemItem(nnbrs=25, msize=None) to 1332 pickle bytes with 17 buffers of 206252696 bytes\n",
      "[   INFO] lenskit.util.parallel setting up ProcessPoolExecutor w/ 4 workers\n",
      "[   INFO] lenskit.batch._recommend recommending with TopN/ItemItem(nnbrs=25, msize=None) for 1208 users (n_jobs=4)\n",
      "[   INFO] lenskit.batch._recommend recommended for 1208 users in 25.27s\n",
      "[   INFO] lenskit.batch._multi generated recommendations in 26.12s\n",
      "[   INFO] lenskit.batch._multi run 4: writing results to my-eval\\recommendations.parquet\n",
      "[   INFO] lenskit.batch._multi finished run 4: ItemItem(nnbrs=25, msize=None) on ML1M:2\n",
      "[   INFO] lenskit.batch._multi starting run 5: UserUser(nnbrs=25, min_sim=0) on ML1M:3\n",
      "[   INFO] lenskit.batch._multi adapting UserUser(nnbrs=25, min_sim=0) into a recommender\n",
      "[   INFO] lenskit.batch._multi training algorithm UserUser(nnbrs=25, min_sim=0) on 994169 ratings\n",
      "[   INFO] lenskit.algorithms.basic trained unrated candidate selector for 994169 ratings\n",
      "[   INFO] lenskit.batch._multi trained algorithm UserUser(nnbrs=25, min_sim=0) in  450ms\n",
      "[   INFO] lenskit.batch._multi generating recommendations for 1208 users for TopN/UserUser(nnbrs=25, min_sim=0)\n",
      "[   INFO] lenskit.sharing.shm serialized TopN/UserUser(nnbrs=25, min_sim=0) to 1112 pickle bytes with 13 buffers of 28104144 bytes\n",
      "[   INFO] lenskit.util.parallel setting up ProcessPoolExecutor w/ 4 workers\n",
      "[   INFO] lenskit.batch._recommend recommending with TopN/UserUser(nnbrs=25, min_sim=0) for 1208 users (n_jobs=4)\n",
      "[   INFO] lenskit.batch._recommend recommended for 1208 users in 25.56s\n",
      "[   INFO] lenskit.batch._multi generated recommendations in 26.27s\n",
      "[   INFO] lenskit.batch._multi run 5: writing results to my-eval\\recommendations.parquet\n",
      "[   INFO] lenskit.batch._multi finished run 5: UserUser(nnbrs=25, min_sim=0) on ML1M:3\n",
      "[   INFO] lenskit.batch._multi starting run 6: ItemItem(nnbrs=25, msize=None) on ML1M:3\n",
      "[   INFO] lenskit.batch._multi adapting ItemItem(nnbrs=25, msize=None) into a recommender\n",
      "[   INFO] lenskit.batch._multi training algorithm ItemItem(nnbrs=25, msize=None) on 994169 ratings\n",
      "[   INFO] lenskit.algorithms.item_knn [ 196ms] made sparse matrix for 3706 items (994169 ratings from 6040 users)\n"
     ]
    },
    {
     "name": "stdout",
     "output_type": "stream",
     "text": [
      "[   INFO] lenskit.algorithms.item_knn [ 302ms] computed means for 3706 items\n",
      "[   INFO] lenskit.algorithms.item_knn [ 431ms] normalized rating matrix columns\n",
      "[   INFO] lenskit.algorithms.item_knn [ 435ms] computing similarity matrix\n",
      "[   INFO] lenskit.algorithms.item_knn [ 507ms] splitting 3706 items (992339 ratings) into 4 blocks\n",
      "[   INFO] lenskit.algorithms.item_knn [4.57s] computed 7917458 similarities for 3706 items in 4 blocks\n",
      "[   INFO] lenskit.algorithms.item_knn [4.67s] sorting similarity matrix with 7917458 entries\n",
      "[   INFO] lenskit.algorithms.item_knn [4.93s] got neighborhoods for 3560 of 3706 items\n",
      "[   INFO] lenskit.algorithms.item_knn [4.93s] computed 7917458 neighbor pairs\n",
      "[   INFO] lenskit.algorithms.item_knn [5.40s] transposed matrix for optimization\n",
      "[   INFO] lenskit.algorithms.basic trained unrated candidate selector for 994169 ratings\n",
      "[   INFO] lenskit.batch._multi trained algorithm ItemItem(nnbrs=25, msize=None) in 5.58s\n",
      "[   INFO] lenskit.batch._multi generating recommendations for 1208 users for TopN/ItemItem(nnbrs=25, msize=None)\n",
      "[   INFO] lenskit.sharing.shm serialized TopN/ItemItem(nnbrs=25, msize=None) to 1332 pickle bytes with 17 buffers of 206248568 bytes\n",
      "[   INFO] lenskit.util.parallel setting up ProcessPoolExecutor w/ 4 workers\n",
      "[   INFO] lenskit.batch._recommend recommending with TopN/ItemItem(nnbrs=25, msize=None) for 1208 users (n_jobs=4)\n",
      "[   INFO] lenskit.batch._recommend recommended for 1208 users in 24.99s\n",
      "[   INFO] lenskit.batch._multi generated recommendations in 25.94s\n",
      "[   INFO] lenskit.batch._multi run 6: writing results to my-eval\\recommendations.parquet\n",
      "[   INFO] lenskit.batch._multi finished run 6: ItemItem(nnbrs=25, msize=None) on ML1M:3\n",
      "[   INFO] lenskit.batch._multi starting run 7: UserUser(nnbrs=25, min_sim=0) on ML1M:4\n",
      "[   INFO] lenskit.batch._multi adapting UserUser(nnbrs=25, min_sim=0) into a recommender\n",
      "[   INFO] lenskit.batch._multi training algorithm UserUser(nnbrs=25, min_sim=0) on 994169 ratings\n",
      "[   INFO] lenskit.algorithms.basic trained unrated candidate selector for 994169 ratings\n",
      "[   INFO] lenskit.batch._multi trained algorithm UserUser(nnbrs=25, min_sim=0) in  457ms\n",
      "[   INFO] lenskit.batch._multi generating recommendations for 1208 users for TopN/UserUser(nnbrs=25, min_sim=0)\n",
      "[   INFO] lenskit.sharing.shm serialized TopN/UserUser(nnbrs=25, min_sim=0) to 1112 pickle bytes with 13 buffers of 28104104 bytes\n",
      "[   INFO] lenskit.util.parallel setting up ProcessPoolExecutor w/ 4 workers\n",
      "[   INFO] lenskit.batch._recommend recommending with TopN/UserUser(nnbrs=25, min_sim=0) for 1208 users (n_jobs=4)\n",
      "[   INFO] lenskit.batch._recommend recommended for 1208 users in 26.27s\n",
      "[   INFO] lenskit.batch._multi generated recommendations in 26.93s\n",
      "[   INFO] lenskit.batch._multi run 7: writing results to my-eval\\recommendations.parquet\n",
      "[   INFO] lenskit.batch._multi finished run 7: UserUser(nnbrs=25, min_sim=0) on ML1M:4\n",
      "[   INFO] lenskit.batch._multi starting run 8: ItemItem(nnbrs=25, msize=None) on ML1M:4\n",
      "[   INFO] lenskit.batch._multi adapting ItemItem(nnbrs=25, msize=None) into a recommender\n",
      "[   INFO] lenskit.batch._multi training algorithm ItemItem(nnbrs=25, msize=None) on 994169 ratings\n",
      "[   INFO] lenskit.algorithms.item_knn [ 193ms] made sparse matrix for 3704 items (994169 ratings from 6040 users)\n",
      "[   INFO] lenskit.algorithms.item_knn [ 294ms] computed means for 3704 items\n",
      "[   INFO] lenskit.algorithms.item_knn [ 419ms] normalized rating matrix columns\n",
      "[   INFO] lenskit.algorithms.item_knn [ 423ms] computing similarity matrix\n",
      "[   INFO] lenskit.algorithms.item_knn [ 488ms] splitting 3704 items (992996 ratings) into 4 blocks\n",
      "[   INFO] lenskit.algorithms.item_knn [4.89s] computed 7917178 similarities for 3704 items in 4 blocks\n",
      "[   INFO] lenskit.algorithms.item_knn [5.01s] sorting similarity matrix with 7917178 entries\n",
      "[   INFO] lenskit.algorithms.item_knn [5.35s] got neighborhoods for 3560 of 3704 items\n",
      "[   INFO] lenskit.algorithms.item_knn [5.35s] computed 7917178 neighbor pairs\n",
      "[   INFO] lenskit.algorithms.item_knn [5.91s] transposed matrix for optimization\n",
      "[   INFO] lenskit.algorithms.basic trained unrated candidate selector for 994169 ratings\n",
      "[   INFO] lenskit.batch._multi trained algorithm ItemItem(nnbrs=25, msize=None) in 6.08s\n",
      "[   INFO] lenskit.batch._multi generating recommendations for 1208 users for TopN/ItemItem(nnbrs=25, msize=None)\n",
      "[   INFO] lenskit.sharing.shm serialized TopN/ItemItem(nnbrs=25, msize=None) to 1332 pickle bytes with 17 buffers of 206241752 bytes\n",
      "[   INFO] lenskit.util.parallel setting up ProcessPoolExecutor w/ 4 workers\n",
      "[   INFO] lenskit.batch._recommend recommending with TopN/ItemItem(nnbrs=25, msize=None) for 1208 users (n_jobs=4)\n",
      "[   INFO] lenskit.batch._recommend recommended for 1208 users in 25.20s\n",
      "[   INFO] lenskit.batch._multi generated recommendations in 26.07s\n",
      "[   INFO] lenskit.batch._multi run 8: writing results to my-eval\\recommendations.parquet\n",
      "[   INFO] lenskit.batch._multi finished run 8: ItemItem(nnbrs=25, msize=None) on ML1M:4\n",
      "[   INFO] lenskit.batch._multi starting run 9: UserUser(nnbrs=25, min_sim=0) on ML1M:5\n",
      "[   INFO] lenskit.batch._multi adapting UserUser(nnbrs=25, min_sim=0) into a recommender\n",
      "[   INFO] lenskit.batch._multi training algorithm UserUser(nnbrs=25, min_sim=0) on 994169 ratings\n",
      "[   INFO] lenskit.algorithms.basic trained unrated candidate selector for 994169 ratings\n",
      "[   INFO] lenskit.batch._multi trained algorithm UserUser(nnbrs=25, min_sim=0) in  463ms\n",
      "[   INFO] lenskit.batch._multi generating recommendations for 1208 users for TopN/UserUser(nnbrs=25, min_sim=0)\n",
      "[   INFO] lenskit.sharing.shm serialized TopN/UserUser(nnbrs=25, min_sim=0) to 1112 pickle bytes with 13 buffers of 28104124 bytes\n",
      "[   INFO] lenskit.util.parallel setting up ProcessPoolExecutor w/ 4 workers\n",
      "[   INFO] lenskit.batch._recommend recommending with TopN/UserUser(nnbrs=25, min_sim=0) for 1208 users (n_jobs=4)\n",
      "[   INFO] lenskit.batch._recommend recommended for 1208 users in 25.88s\n",
      "[   INFO] lenskit.batch._multi generated recommendations in 26.56s\n",
      "[   INFO] lenskit.batch._multi run 9: writing results to my-eval\\recommendations.parquet\n",
      "[   INFO] lenskit.batch._multi finished run 9: UserUser(nnbrs=25, min_sim=0) on ML1M:5\n",
      "[   INFO] lenskit.batch._multi starting run 10: ItemItem(nnbrs=25, msize=None) on ML1M:5\n",
      "[   INFO] lenskit.batch._multi adapting ItemItem(nnbrs=25, msize=None) into a recommender\n",
      "[   INFO] lenskit.batch._multi training algorithm ItemItem(nnbrs=25, msize=None) on 994169 ratings\n",
      "[   INFO] lenskit.algorithms.item_knn [ 191ms] made sparse matrix for 3705 items (994169 ratings from 6040 users)\n",
      "[   INFO] lenskit.algorithms.item_knn [ 282ms] computed means for 3705 items\n",
      "[   INFO] lenskit.algorithms.item_knn [ 399ms] normalized rating matrix columns\n",
      "[   INFO] lenskit.algorithms.item_knn [ 402ms] computing similarity matrix\n",
      "[   INFO] lenskit.algorithms.item_knn [ 456ms] splitting 3705 items (992928 ratings) into 4 blocks\n",
      "[   INFO] lenskit.algorithms.item_knn [4.32s] computed 7917822 similarities for 3705 items in 4 blocks\n",
      "[   INFO] lenskit.algorithms.item_knn [4.41s] sorting similarity matrix with 7917822 entries\n",
      "[   INFO] lenskit.algorithms.item_knn [4.69s] got neighborhoods for 3558 of 3705 items\n",
      "[   INFO] lenskit.algorithms.item_knn [4.69s] computed 7917822 neighbor pairs\n",
      "[   INFO] lenskit.algorithms.item_knn [5.13s] transposed matrix for optimization\n",
      "[   INFO] lenskit.algorithms.basic trained unrated candidate selector for 994169 ratings\n",
      "[   INFO] lenskit.batch._multi trained algorithm ItemItem(nnbrs=25, msize=None) in 5.30s\n",
      "[   INFO] lenskit.batch._multi generating recommendations for 1208 users for TopN/ItemItem(nnbrs=25, msize=None)\n",
      "[   INFO] lenskit.sharing.shm serialized TopN/ItemItem(nnbrs=25, msize=None) to 1332 pickle bytes with 17 buffers of 206257256 bytes\n",
      "[   INFO] lenskit.util.parallel setting up ProcessPoolExecutor w/ 4 workers\n",
      "[   INFO] lenskit.batch._recommend recommending with TopN/ItemItem(nnbrs=25, msize=None) for 1208 users (n_jobs=4)\n",
      "[   INFO] lenskit.batch._recommend recommended for 1208 users in 25.37s\n",
      "[   INFO] lenskit.batch._multi generated recommendations in 26.20s\n",
      "[   INFO] lenskit.batch._multi run 10: writing results to my-eval\\recommendations.parquet\n"
     ]
    },
    {
     "name": "stdout",
     "output_type": "stream",
     "text": [
      "[   INFO] lenskit.batch._multi finished run 10: ItemItem(nnbrs=25, msize=None) on ML1M:5\n",
      "\n"
     ]
    }
   ],
   "source": [
    "eval.run(progress = tqdm)"
   ]
  },
  {
   "cell_type": "markdown",
   "metadata": {},
   "source": [
    "## Analyzing Results\n",
    "\n",
    "We need to read in experiment outputs.\n",
    "\n",
    "First the run metadata:"
   ]
  },
  {
   "cell_type": "code",
   "execution_count": 13,
   "metadata": {},
   "outputs": [
    {
     "data": {
      "text/html": [
       "<div>\n",
       "<style scoped>\n",
       "    .dataframe tbody tr th:only-of-type {\n",
       "        vertical-align: middle;\n",
       "    }\n",
       "\n",
       "    .dataframe tbody tr th {\n",
       "        vertical-align: top;\n",
       "    }\n",
       "\n",
       "    .dataframe thead th {\n",
       "        text-align: right;\n",
       "    }\n",
       "</style>\n",
       "<table border=\"1\" class=\"dataframe\">\n",
       "  <thead>\n",
       "    <tr style=\"text-align: right;\">\n",
       "      <th></th>\n",
       "      <th>DataSet</th>\n",
       "      <th>Partition</th>\n",
       "      <th>AlgoClass</th>\n",
       "      <th>AlgoStr</th>\n",
       "      <th>name</th>\n",
       "      <th>nnbrs</th>\n",
       "      <th>TrainTime</th>\n",
       "      <th>PredTime</th>\n",
       "      <th>RecTime</th>\n",
       "    </tr>\n",
       "    <tr>\n",
       "      <th>RunId</th>\n",
       "      <th></th>\n",
       "      <th></th>\n",
       "      <th></th>\n",
       "      <th></th>\n",
       "      <th></th>\n",
       "      <th></th>\n",
       "      <th></th>\n",
       "      <th></th>\n",
       "      <th></th>\n",
       "    </tr>\n",
       "  </thead>\n",
       "  <tbody>\n",
       "    <tr>\n",
       "      <th>1</th>\n",
       "      <td>ML1M</td>\n",
       "      <td>1</td>\n",
       "      <td>UserUser</td>\n",
       "      <td>UserUser(nnbrs=25, min_sim=0)</td>\n",
       "      <td>UserKNN-Average</td>\n",
       "      <td>25</td>\n",
       "      <td>6.288795</td>\n",
       "      <td>NaN</td>\n",
       "      <td>26.339011</td>\n",
       "    </tr>\n",
       "    <tr>\n",
       "      <th>2</th>\n",
       "      <td>ML1M</td>\n",
       "      <td>1</td>\n",
       "      <td>ItemItem</td>\n",
       "      <td>ItemItem(nnbrs=25, msize=None)</td>\n",
       "      <td>ItemKNN-Average</td>\n",
       "      <td>25</td>\n",
       "      <td>12.135656</td>\n",
       "      <td>NaN</td>\n",
       "      <td>26.231404</td>\n",
       "    </tr>\n",
       "    <tr>\n",
       "      <th>3</th>\n",
       "      <td>ML1M</td>\n",
       "      <td>2</td>\n",
       "      <td>UserUser</td>\n",
       "      <td>UserUser(nnbrs=25, min_sim=0)</td>\n",
       "      <td>UserKNN-Average</td>\n",
       "      <td>25</td>\n",
       "      <td>0.479742</td>\n",
       "      <td>NaN</td>\n",
       "      <td>28.160372</td>\n",
       "    </tr>\n",
       "    <tr>\n",
       "      <th>4</th>\n",
       "      <td>ML1M</td>\n",
       "      <td>2</td>\n",
       "      <td>ItemItem</td>\n",
       "      <td>ItemItem(nnbrs=25, msize=None)</td>\n",
       "      <td>ItemKNN-Average</td>\n",
       "      <td>25</td>\n",
       "      <td>5.410119</td>\n",
       "      <td>NaN</td>\n",
       "      <td>26.119443</td>\n",
       "    </tr>\n",
       "    <tr>\n",
       "      <th>5</th>\n",
       "      <td>ML1M</td>\n",
       "      <td>3</td>\n",
       "      <td>UserUser</td>\n",
       "      <td>UserUser(nnbrs=25, min_sim=0)</td>\n",
       "      <td>UserKNN-Average</td>\n",
       "      <td>25</td>\n",
       "      <td>0.450430</td>\n",
       "      <td>NaN</td>\n",
       "      <td>26.274025</td>\n",
       "    </tr>\n",
       "  </tbody>\n",
       "</table>\n",
       "</div>"
      ],
      "text/plain": [
       "      DataSet  Partition AlgoClass                         AlgoStr  \\\n",
       "RunId                                                                \n",
       "1        ML1M          1  UserUser   UserUser(nnbrs=25, min_sim=0)   \n",
       "2        ML1M          1  ItemItem  ItemItem(nnbrs=25, msize=None)   \n",
       "3        ML1M          2  UserUser   UserUser(nnbrs=25, min_sim=0)   \n",
       "4        ML1M          2  ItemItem  ItemItem(nnbrs=25, msize=None)   \n",
       "5        ML1M          3  UserUser   UserUser(nnbrs=25, min_sim=0)   \n",
       "\n",
       "                  name  nnbrs  TrainTime  PredTime    RecTime  \n",
       "RunId                                                          \n",
       "1      UserKNN-Average     25   6.288795       NaN  26.339011  \n",
       "2      ItemKNN-Average     25  12.135656       NaN  26.231404  \n",
       "3      UserKNN-Average     25   0.479742       NaN  28.160372  \n",
       "4      ItemKNN-Average     25   5.410119       NaN  26.119443  \n",
       "5      UserKNN-Average     25   0.450430       NaN  26.274025  "
      ]
     },
     "execution_count": 13,
     "metadata": {},
     "output_type": "execute_result"
    }
   ],
   "source": [
    "runs = pd.read_csv('my-eval/runs.csv')\n",
    "runs.set_index('RunId', inplace = True)\n",
    "runs.head() # a quick visual check"
   ]
  },
  {
   "cell_type": "markdown",
   "metadata": {},
   "source": [
    "This describes each run - a data set, partition, and algorithm combination.  To evaluate, we need to get the actual recommendations, and combine them with this:"
   ]
  },
  {
   "cell_type": "code",
   "execution_count": 14,
   "metadata": {},
   "outputs": [
    {
     "data": {
      "text/html": [
       "<div>\n",
       "<style scoped>\n",
       "    .dataframe tbody tr th:only-of-type {\n",
       "        vertical-align: middle;\n",
       "    }\n",
       "\n",
       "    .dataframe tbody tr th {\n",
       "        vertical-align: top;\n",
       "    }\n",
       "\n",
       "    .dataframe thead th {\n",
       "        text-align: right;\n",
       "    }\n",
       "</style>\n",
       "<table border=\"1\" class=\"dataframe\">\n",
       "  <thead>\n",
       "    <tr style=\"text-align: right;\">\n",
       "      <th></th>\n",
       "      <th>item</th>\n",
       "      <th>score</th>\n",
       "      <th>user</th>\n",
       "      <th>rank</th>\n",
       "      <th>RunId</th>\n",
       "    </tr>\n",
       "  </thead>\n",
       "  <tbody>\n",
       "    <tr>\n",
       "      <th>0</th>\n",
       "      <td>3382</td>\n",
       "      <td>7.026087</td>\n",
       "      <td>3</td>\n",
       "      <td>1</td>\n",
       "      <td>1</td>\n",
       "    </tr>\n",
       "    <tr>\n",
       "      <th>1</th>\n",
       "      <td>572</td>\n",
       "      <td>5.817902</td>\n",
       "      <td>3</td>\n",
       "      <td>2</td>\n",
       "      <td>1</td>\n",
       "    </tr>\n",
       "    <tr>\n",
       "      <th>2</th>\n",
       "      <td>3517</td>\n",
       "      <td>5.274229</td>\n",
       "      <td>3</td>\n",
       "      <td>3</td>\n",
       "      <td>1</td>\n",
       "    </tr>\n",
       "    <tr>\n",
       "      <th>3</th>\n",
       "      <td>2999</td>\n",
       "      <td>5.148148</td>\n",
       "      <td>3</td>\n",
       "      <td>4</td>\n",
       "      <td>1</td>\n",
       "    </tr>\n",
       "    <tr>\n",
       "      <th>4</th>\n",
       "      <td>853</td>\n",
       "      <td>5.129498</td>\n",
       "      <td>3</td>\n",
       "      <td>5</td>\n",
       "      <td>1</td>\n",
       "    </tr>\n",
       "  </tbody>\n",
       "</table>\n",
       "</div>"
      ],
      "text/plain": [
       "   item     score  user  rank  RunId\n",
       "0  3382  7.026087     3     1      1\n",
       "1   572  5.817902     3     2      1\n",
       "2  3517  5.274229     3     3      1\n",
       "3  2999  5.148148     3     4      1\n",
       "4   853  5.129498     3     5      1"
      ]
     },
     "execution_count": 14,
     "metadata": {},
     "output_type": "execute_result"
    }
   ],
   "source": [
    "recs = pd.read_parquet('my-eval/recommendations.parquet')\n",
    "recs.head()"
   ]
  },
  {
   "cell_type": "markdown",
   "metadata": {},
   "source": [
    "Getting the predictions... (this is here for posterity, we're not actually making predictions on test set now)"
   ]
  },
  {
   "cell_type": "code",
   "execution_count": null,
   "metadata": {},
   "outputs": [],
   "source": [
    "#preds = pd.read_parquet('my-eval/predictions.parquet')\n",
    "#preds"
   ]
  },
  {
   "cell_type": "markdown",
   "metadata": {},
   "source": [
    "We're going to compute per-(run,user) evaluations of the recommendations *before* combining with metadata. \n",
    "\n",
    "In order to evaluate the recommendation list, we need to build a combined set of truth data. Since this is a disjoint partition of users over a single data set, we can just concatenate the individual test frames:"
   ]
  },
  {
   "cell_type": "code",
   "execution_count": 15,
   "metadata": {
    "scrolled": true
   },
   "outputs": [
    {
     "data": {
      "text/html": [
       "<div>\n",
       "<style scoped>\n",
       "    .dataframe tbody tr th:only-of-type {\n",
       "        vertical-align: middle;\n",
       "    }\n",
       "\n",
       "    .dataframe tbody tr th {\n",
       "        vertical-align: top;\n",
       "    }\n",
       "\n",
       "    .dataframe thead th {\n",
       "        text-align: right;\n",
       "    }\n",
       "</style>\n",
       "<table border=\"1\" class=\"dataframe\">\n",
       "  <thead>\n",
       "    <tr style=\"text-align: right;\">\n",
       "      <th></th>\n",
       "      <th>Unnamed: 0</th>\n",
       "      <th>user</th>\n",
       "      <th>item</th>\n",
       "      <th>rating</th>\n",
       "      <th>timestamp</th>\n",
       "    </tr>\n",
       "  </thead>\n",
       "  <tbody>\n",
       "    <tr>\n",
       "      <th>0</th>\n",
       "      <td>193</td>\n",
       "      <td>3</td>\n",
       "      <td>1079</td>\n",
       "      <td>5.0</td>\n",
       "      <td>978298296</td>\n",
       "    </tr>\n",
       "    <tr>\n",
       "      <th>1</th>\n",
       "      <td>212</td>\n",
       "      <td>3</td>\n",
       "      <td>1196</td>\n",
       "      <td>4.0</td>\n",
       "      <td>978297539</td>\n",
       "    </tr>\n",
       "    <tr>\n",
       "      <th>2</th>\n",
       "      <td>210</td>\n",
       "      <td>3</td>\n",
       "      <td>1266</td>\n",
       "      <td>5.0</td>\n",
       "      <td>978297396</td>\n",
       "    </tr>\n",
       "    <tr>\n",
       "      <th>3</th>\n",
       "      <td>221</td>\n",
       "      <td>3</td>\n",
       "      <td>1304</td>\n",
       "      <td>5.0</td>\n",
       "      <td>978298166</td>\n",
       "    </tr>\n",
       "    <tr>\n",
       "      <th>4</th>\n",
       "      <td>223</td>\n",
       "      <td>3</td>\n",
       "      <td>2470</td>\n",
       "      <td>4.0</td>\n",
       "      <td>978297777</td>\n",
       "    </tr>\n",
       "    <tr>\n",
       "      <th>...</th>\n",
       "      <td>...</td>\n",
       "      <td>...</td>\n",
       "      <td>...</td>\n",
       "      <td>...</td>\n",
       "      <td>...</td>\n",
       "    </tr>\n",
       "    <tr>\n",
       "      <th>30195</th>\n",
       "      <td>998347</td>\n",
       "      <td>6034</td>\n",
       "      <td>1260</td>\n",
       "      <td>5.0</td>\n",
       "      <td>956712333</td>\n",
       "    </tr>\n",
       "    <tr>\n",
       "      <th>30196</th>\n",
       "      <td>998340</td>\n",
       "      <td>6034</td>\n",
       "      <td>2186</td>\n",
       "      <td>4.0</td>\n",
       "      <td>956712333</td>\n",
       "    </tr>\n",
       "    <tr>\n",
       "      <th>30197</th>\n",
       "      <td>998348</td>\n",
       "      <td>6034</td>\n",
       "      <td>1267</td>\n",
       "      <td>5.0</td>\n",
       "      <td>956712333</td>\n",
       "    </tr>\n",
       "    <tr>\n",
       "      <th>30198</th>\n",
       "      <td>998343</td>\n",
       "      <td>6034</td>\n",
       "      <td>344</td>\n",
       "      <td>2.0</td>\n",
       "      <td>956711771</td>\n",
       "    </tr>\n",
       "    <tr>\n",
       "      <th>30199</th>\n",
       "      <td>998336</td>\n",
       "      <td>6034</td>\n",
       "      <td>942</td>\n",
       "      <td>5.0</td>\n",
       "      <td>956712388</td>\n",
       "    </tr>\n",
       "  </tbody>\n",
       "</table>\n",
       "<p>30200 rows × 5 columns</p>\n",
       "</div>"
      ],
      "text/plain": [
       "       Unnamed: 0  user  item  rating  timestamp\n",
       "0             193     3  1079     5.0  978298296\n",
       "1             212     3  1196     4.0  978297539\n",
       "2             210     3  1266     5.0  978297396\n",
       "3             221     3  1304     5.0  978298166\n",
       "4             223     3  2470     4.0  978297777\n",
       "...           ...   ...   ...     ...        ...\n",
       "30195      998347  6034  1260     5.0  956712333\n",
       "30196      998340  6034  2186     4.0  956712333\n",
       "30197      998348  6034  1267     5.0  956712333\n",
       "30198      998343  6034   344     2.0  956711771\n",
       "30199      998336  6034   942     5.0  956712388\n",
       "\n",
       "[30200 rows x 5 columns]"
      ]
     },
     "execution_count": 15,
     "metadata": {},
     "output_type": "execute_result"
    }
   ],
   "source": [
    "truth = pd.concat((p.test for p in pairs), ignore_index = True)\n",
    "truth"
   ]
  },
  {
   "cell_type": "code",
   "execution_count": null,
   "metadata": {},
   "outputs": [],
   "source": [
    "truth.to_csv('my-eval/truth.csv') # saving truth values to a csv for future evaluation\n",
    "# truth = pd.read_csv('my-eval/truth.csv')"
   ]
  },
  {
   "cell_type": "code",
   "execution_count": 16,
   "metadata": {},
   "outputs": [],
   "source": [
    "truth = truth[['user', 'item', 'rating']] # just grabbing what we need"
   ]
  },
  {
   "cell_type": "code",
   "execution_count": 17,
   "metadata": {},
   "outputs": [
    {
     "data": {
      "text/html": [
       "<div>\n",
       "<style scoped>\n",
       "    .dataframe tbody tr th:only-of-type {\n",
       "        vertical-align: middle;\n",
       "    }\n",
       "\n",
       "    .dataframe tbody tr th {\n",
       "        vertical-align: top;\n",
       "    }\n",
       "\n",
       "    .dataframe thead th {\n",
       "        text-align: right;\n",
       "    }\n",
       "</style>\n",
       "<table border=\"1\" class=\"dataframe\">\n",
       "  <thead>\n",
       "    <tr style=\"text-align: right;\">\n",
       "      <th></th>\n",
       "      <th>user</th>\n",
       "      <th>item</th>\n",
       "      <th>rating</th>\n",
       "    </tr>\n",
       "  </thead>\n",
       "  <tbody>\n",
       "    <tr>\n",
       "      <th>0</th>\n",
       "      <td>3</td>\n",
       "      <td>1079</td>\n",
       "      <td>5.0</td>\n",
       "    </tr>\n",
       "    <tr>\n",
       "      <th>1</th>\n",
       "      <td>3</td>\n",
       "      <td>1196</td>\n",
       "      <td>4.0</td>\n",
       "    </tr>\n",
       "    <tr>\n",
       "      <th>2</th>\n",
       "      <td>3</td>\n",
       "      <td>1266</td>\n",
       "      <td>5.0</td>\n",
       "    </tr>\n",
       "    <tr>\n",
       "      <th>3</th>\n",
       "      <td>3</td>\n",
       "      <td>1304</td>\n",
       "      <td>5.0</td>\n",
       "    </tr>\n",
       "    <tr>\n",
       "      <th>4</th>\n",
       "      <td>3</td>\n",
       "      <td>2470</td>\n",
       "      <td>4.0</td>\n",
       "    </tr>\n",
       "  </tbody>\n",
       "</table>\n",
       "</div>"
      ],
      "text/plain": [
       "   user  item  rating\n",
       "0     3  1079     5.0\n",
       "1     3  1196     4.0\n",
       "2     3  1266     5.0\n",
       "3     3  1304     5.0\n",
       "4     3  2470     4.0"
      ]
     },
     "execution_count": 17,
     "metadata": {},
     "output_type": "execute_result"
    }
   ],
   "source": [
    "truth.head() # a visual check"
   ]
  },
  {
   "cell_type": "markdown",
   "metadata": {},
   "source": [
    "Now we can set up an analysis and compute the results."
   ]
  },
  {
   "cell_type": "code",
   "execution_count": 18,
   "metadata": {
    "scrolled": true
   },
   "outputs": [
    {
     "name": "stdout",
     "output_type": "stream",
     "text": [
      "[   INFO] lenskit.topn analyzing 241600 recommendations (30200 truth rows)\n",
      "[   INFO] lenskit.topn using rec key columns ['RunId', 'user']\n",
      "[   INFO] lenskit.topn using truth key columns ['user']\n",
      "[   INFO] lenskit.topn collecting truth data\n",
      "[   INFO] lenskit.topn collecting metric results\n",
      "[   INFO] lenskit.sharing.shm serialized <lenskit.topn._RLAJob object at 0x0000022D2C87B3D0> to 1474968 pickle bytes with 12083 buffers of 8214400 bytes\n",
      "[   INFO] lenskit.util.parallel setting up ProcessPoolExecutor w/ 2 workers\n",
      "[   INFO] lenskit.topn measured 12080 lists in 30.39s\n"
     ]
    },
    {
     "data": {
      "text/html": [
       "<div>\n",
       "<style scoped>\n",
       "    .dataframe tbody tr th:only-of-type {\n",
       "        vertical-align: middle;\n",
       "    }\n",
       "\n",
       "    .dataframe tbody tr th {\n",
       "        vertical-align: top;\n",
       "    }\n",
       "\n",
       "    .dataframe thead th {\n",
       "        text-align: right;\n",
       "    }\n",
       "</style>\n",
       "<table border=\"1\" class=\"dataframe\">\n",
       "  <thead>\n",
       "    <tr style=\"text-align: right;\">\n",
       "      <th></th>\n",
       "      <th></th>\n",
       "      <th>nrecs</th>\n",
       "      <th>ndcg</th>\n",
       "      <th>precision</th>\n",
       "    </tr>\n",
       "    <tr>\n",
       "      <th>RunId</th>\n",
       "      <th>user</th>\n",
       "      <th></th>\n",
       "      <th></th>\n",
       "      <th></th>\n",
       "    </tr>\n",
       "  </thead>\n",
       "  <tbody>\n",
       "    <tr>\n",
       "      <th rowspan=\"5\" valign=\"top\">1</th>\n",
       "      <th>3</th>\n",
       "      <td>20.0</td>\n",
       "      <td>0.000000</td>\n",
       "      <td>0.00</td>\n",
       "    </tr>\n",
       "    <tr>\n",
       "      <th>13</th>\n",
       "      <td>20.0</td>\n",
       "      <td>0.079206</td>\n",
       "      <td>0.05</td>\n",
       "    </tr>\n",
       "    <tr>\n",
       "      <th>14</th>\n",
       "      <td>20.0</td>\n",
       "      <td>0.000000</td>\n",
       "      <td>0.00</td>\n",
       "    </tr>\n",
       "    <tr>\n",
       "      <th>17</th>\n",
       "      <td>20.0</td>\n",
       "      <td>0.000000</td>\n",
       "      <td>0.00</td>\n",
       "    </tr>\n",
       "    <tr>\n",
       "      <th>18</th>\n",
       "      <td>20.0</td>\n",
       "      <td>0.000000</td>\n",
       "      <td>0.00</td>\n",
       "    </tr>\n",
       "  </tbody>\n",
       "</table>\n",
       "</div>"
      ],
      "text/plain": [
       "            nrecs      ndcg  precision\n",
       "RunId user                            \n",
       "1     3      20.0  0.000000       0.00\n",
       "      13     20.0  0.079206       0.05\n",
       "      14     20.0  0.000000       0.00\n",
       "      17     20.0  0.000000       0.00\n",
       "      18     20.0  0.000000       0.00"
      ]
     },
     "execution_count": 18,
     "metadata": {},
     "output_type": "execute_result"
    }
   ],
   "source": [
    "rla = topn.RecListAnalysis()\n",
    "rla.add_metric(topn.ndcg) # precision, recall, recip_rank, dcg, ndcg\n",
    "rla.add_metric(topn.precision)\n",
    "topn_compute = rla.compute(recs, truth)\n",
    "topn_compute.head()"
   ]
  },
  {
   "cell_type": "markdown",
   "metadata": {},
   "source": [
    "Next, we need to combine this with our run data, so that we know what algorithms and configurations we are evaluating:"
   ]
  },
  {
   "cell_type": "code",
   "execution_count": 19,
   "metadata": {},
   "outputs": [
    {
     "data": {
      "text/html": [
       "<div>\n",
       "<style scoped>\n",
       "    .dataframe tbody tr th:only-of-type {\n",
       "        vertical-align: middle;\n",
       "    }\n",
       "\n",
       "    .dataframe tbody tr th {\n",
       "        vertical-align: top;\n",
       "    }\n",
       "\n",
       "    .dataframe thead th {\n",
       "        text-align: right;\n",
       "    }\n",
       "</style>\n",
       "<table border=\"1\" class=\"dataframe\">\n",
       "  <thead>\n",
       "    <tr style=\"text-align: right;\">\n",
       "      <th></th>\n",
       "      <th></th>\n",
       "      <th>nrecs</th>\n",
       "      <th>ndcg</th>\n",
       "      <th>precision</th>\n",
       "      <th>name</th>\n",
       "      <th>nnbrs</th>\n",
       "    </tr>\n",
       "    <tr>\n",
       "      <th>RunId</th>\n",
       "      <th>user</th>\n",
       "      <th></th>\n",
       "      <th></th>\n",
       "      <th></th>\n",
       "      <th></th>\n",
       "      <th></th>\n",
       "    </tr>\n",
       "  </thead>\n",
       "  <tbody>\n",
       "    <tr>\n",
       "      <th rowspan=\"5\" valign=\"top\">1</th>\n",
       "      <th>3</th>\n",
       "      <td>20.0</td>\n",
       "      <td>0.000000</td>\n",
       "      <td>0.00</td>\n",
       "      <td>UserKNN-Average</td>\n",
       "      <td>25</td>\n",
       "    </tr>\n",
       "    <tr>\n",
       "      <th>13</th>\n",
       "      <td>20.0</td>\n",
       "      <td>0.079206</td>\n",
       "      <td>0.05</td>\n",
       "      <td>UserKNN-Average</td>\n",
       "      <td>25</td>\n",
       "    </tr>\n",
       "    <tr>\n",
       "      <th>14</th>\n",
       "      <td>20.0</td>\n",
       "      <td>0.000000</td>\n",
       "      <td>0.00</td>\n",
       "      <td>UserKNN-Average</td>\n",
       "      <td>25</td>\n",
       "    </tr>\n",
       "    <tr>\n",
       "      <th>17</th>\n",
       "      <td>20.0</td>\n",
       "      <td>0.000000</td>\n",
       "      <td>0.00</td>\n",
       "      <td>UserKNN-Average</td>\n",
       "      <td>25</td>\n",
       "    </tr>\n",
       "    <tr>\n",
       "      <th>18</th>\n",
       "      <td>20.0</td>\n",
       "      <td>0.000000</td>\n",
       "      <td>0.00</td>\n",
       "      <td>UserKNN-Average</td>\n",
       "      <td>25</td>\n",
       "    </tr>\n",
       "  </tbody>\n",
       "</table>\n",
       "</div>"
      ],
      "text/plain": [
       "            nrecs      ndcg  precision             name  nnbrs\n",
       "RunId user                                                    \n",
       "1     3      20.0  0.000000       0.00  UserKNN-Average     25\n",
       "      13     20.0  0.079206       0.05  UserKNN-Average     25\n",
       "      14     20.0  0.000000       0.00  UserKNN-Average     25\n",
       "      17     20.0  0.000000       0.00  UserKNN-Average     25\n",
       "      18     20.0  0.000000       0.00  UserKNN-Average     25"
      ]
     },
     "execution_count": 19,
     "metadata": {},
     "output_type": "execute_result"
    }
   ],
   "source": [
    "topn_results = topn_compute.join(runs[['name', 'nnbrs']], on = 'RunId')\n",
    "topn_results.head()"
   ]
  },
  {
   "cell_type": "markdown",
   "metadata": {},
   "source": [
    "We can compute the overall average performance for each algorithm configuration"
   ]
  },
  {
   "cell_type": "code",
   "execution_count": 20,
   "metadata": {
    "scrolled": false
   },
   "outputs": [
    {
     "name": "stderr",
     "output_type": "stream",
     "text": [
      "<ipython-input-20-a4fd14d57be5>:1: FutureWarning: Indexing with multiple keys (implicitly converted to a tuple of keys) will be deprecated, use a list instead.\n",
      "  topn_results.fillna(0).groupby(['name', 'nnbrs'])['ndcg','precision'].mean()\n"
     ]
    },
    {
     "data": {
      "text/html": [
       "<div>\n",
       "<style scoped>\n",
       "    .dataframe tbody tr th:only-of-type {\n",
       "        vertical-align: middle;\n",
       "    }\n",
       "\n",
       "    .dataframe tbody tr th {\n",
       "        vertical-align: top;\n",
       "    }\n",
       "\n",
       "    .dataframe thead th {\n",
       "        text-align: right;\n",
       "    }\n",
       "</style>\n",
       "<table border=\"1\" class=\"dataframe\">\n",
       "  <thead>\n",
       "    <tr style=\"text-align: right;\">\n",
       "      <th></th>\n",
       "      <th></th>\n",
       "      <th>ndcg</th>\n",
       "      <th>precision</th>\n",
       "    </tr>\n",
       "    <tr>\n",
       "      <th>name</th>\n",
       "      <th>nnbrs</th>\n",
       "      <th></th>\n",
       "      <th></th>\n",
       "    </tr>\n",
       "  </thead>\n",
       "  <tbody>\n",
       "    <tr>\n",
       "      <th>ItemKNN-Average</th>\n",
       "      <th>25</th>\n",
       "      <td>0.015060</td>\n",
       "      <td>0.007392</td>\n",
       "    </tr>\n",
       "    <tr>\n",
       "      <th>UserKNN-Average</th>\n",
       "      <th>25</th>\n",
       "      <td>0.009853</td>\n",
       "      <td>0.004851</td>\n",
       "    </tr>\n",
       "  </tbody>\n",
       "</table>\n",
       "</div>"
      ],
      "text/plain": [
       "                           ndcg  precision\n",
       "name            nnbrs                     \n",
       "ItemKNN-Average 25     0.015060   0.007392\n",
       "UserKNN-Average 25     0.009853   0.004851"
      ]
     },
     "execution_count": 20,
     "metadata": {},
     "output_type": "execute_result"
    }
   ],
   "source": [
    "topn_results.fillna(0).groupby(['name', 'nnbrs'])['ndcg','precision'].mean()"
   ]
  }
 ],
 "metadata": {
  "kernelspec": {
   "display_name": "Python 3",
   "language": "python",
   "name": "python3"
  },
  "language_info": {
   "codemirror_mode": {
    "name": "ipython",
    "version": 3
   },
   "file_extension": ".py",
   "mimetype": "text/x-python",
   "name": "python",
   "nbconvert_exporter": "python",
   "pygments_lexer": "ipython3",
   "version": "3.8.3"
  }
 },
 "nbformat": 4,
 "nbformat_minor": 2
}
