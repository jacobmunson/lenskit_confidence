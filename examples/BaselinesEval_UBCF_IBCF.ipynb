{
 "cells": [
  {
   "cell_type": "markdown",
   "metadata": {},
   "source": [
    "# UBCF & IBCF - MultiEval Example"
   ]
  },
  {
   "cell_type": "markdown",
   "metadata": {},
   "source": [
    "This notebook uses the example from the LKPY package as a template. Modifications are made as necessary, but this is largely a copy of the example given with the LKPY package. "
   ]
  },
  {
   "cell_type": "markdown",
   "metadata": {},
   "source": [
    "## Setup\n",
    "\n",
    "We first need to import our libraries."
   ]
  },
  {
   "cell_type": "code",
   "execution_count": 1,
   "metadata": {},
   "outputs": [],
   "source": [
    "import sys\n",
    "sys.path.insert(0,'C:\\\\Users\\\\Jacob\\\\Documents\\\\GitHub\\\\lenskit_confidence')"
   ]
  },
  {
   "cell_type": "code",
   "execution_count": 21,
   "metadata": {},
   "outputs": [],
   "source": [
    "from lenskit.batch import MultiEval\n",
    "from lenskit.crossfold import partition_users, SampleN\n",
    "from lenskit.algorithms import basic, als, item_knn, user_knn\n",
    "from lenskit.datasets import MovieLens\n",
    "from lenskit import topn, util #, metrics\n",
    "from lenskit.metrics import predict\n",
    "import pandas as pd\n",
    "import matplotlib.pyplot as plt\n",
    "import numpy as np"
   ]
  },
  {
   "cell_type": "markdown",
   "metadata": {},
   "source": [
    "Progress bars are useful:"
   ]
  },
  {
   "cell_type": "code",
   "execution_count": 3,
   "metadata": {},
   "outputs": [
    {
     "name": "stderr",
     "output_type": "stream",
     "text": [
      "C:\\Users\\Jacob\\anaconda3\\lib\\site-packages\\tqdm\\std.py:668: FutureWarning: The Panel class is removed from pandas. Accessing it from the top-level namespace will also be removed in the next version\n",
      "  from pandas import Panel\n"
     ]
    }
   ],
   "source": [
    "from tqdm.notebook import tqdm_notebook as tqdm\n",
    "tqdm.pandas()"
   ]
  },
  {
   "cell_type": "markdown",
   "metadata": {},
   "source": [
    "It takes a little while to run things, and can get kinda quiet in here. Let's set up logging so we can see the logging output in the notebook's message stream:"
   ]
  },
  {
   "cell_type": "code",
   "execution_count": 4,
   "metadata": {},
   "outputs": [
    {
     "name": "stdout",
     "output_type": "stream",
     "text": [
      "[   INFO] lenskit.util.log notebook logging configured\n"
     ]
    }
   ],
   "source": [
    "util.log_to_notebook()"
   ]
  },
  {
   "cell_type": "markdown",
   "metadata": {},
   "source": [
    "Then set up the data access."
   ]
  },
  {
   "cell_type": "code",
   "execution_count": 25,
   "metadata": {},
   "outputs": [],
   "source": [
    "#mlsmall = MovieLens('../data/ml-latest-small')\n",
    "#mlsmall = MovieLens('../data/ml-1m')\n",
    "mlsmall = MovieLens('../data/ml-10m')\n",
    "#mlsmall = MovieLens('../data/ml-20m')"
   ]
  },
  {
   "cell_type": "markdown",
   "metadata": {},
   "source": [
    "## Experiment"
   ]
  },
  {
   "cell_type": "markdown",
   "metadata": {},
   "source": [
    "We're going to run our evaluation and store its output in the `my-eval` directory, generating 20-item recommendation lists::"
   ]
  },
  {
   "cell_type": "code",
   "execution_count": 26,
   "metadata": {},
   "outputs": [],
   "source": [
    "eval = MultiEval('my-eval', predict = True, recommend = 100, eval_n_jobs = 4)"
   ]
  },
  {
   "cell_type": "markdown",
   "metadata": {},
   "source": [
    "We're going to use a 5-fold cross-validation setup.  We save the data into a list in memory so we have access to the test data later.  In a larger experiment, you might write the partitions to disk and pass the file names to `add_datasets`."
   ]
  },
  {
   "cell_type": "code",
   "execution_count": 27,
   "metadata": {},
   "outputs": [
    {
     "name": "stdout",
     "output_type": "stream",
     "text": [
      "[   INFO] lenskit.crossfold partitioning 10000054 rows for 69878 users into 5 partitions\n",
      "[   INFO] lenskit.crossfold fold 0: selecting test ratings\n",
      "[   INFO] lenskit.crossfold fold 0: partitioning training data\n",
      "[   INFO] lenskit.crossfold fold 1: selecting test ratings\n",
      "[   INFO] lenskit.crossfold fold 1: partitioning training data\n",
      "[   INFO] lenskit.crossfold fold 2: selecting test ratings\n",
      "[   INFO] lenskit.crossfold fold 2: partitioning training data\n",
      "[   INFO] lenskit.crossfold fold 3: selecting test ratings\n",
      "[   INFO] lenskit.crossfold fold 3: partitioning training data\n",
      "[   INFO] lenskit.crossfold fold 4: selecting test ratings\n",
      "[   INFO] lenskit.crossfold fold 4: partitioning training data\n"
     ]
    }
   ],
   "source": [
    "pairs = list(partition_users(mlsmall.ratings, 5, SampleN(5)))\n",
    "#pairs = (partition_users(mlsmall.ratings, 5, SampleN(5)))"
   ]
  },
  {
   "cell_type": "code",
   "execution_count": 28,
   "metadata": {},
   "outputs": [],
   "source": [
    "eval.add_datasets(pairs, name = 'ML-Small')"
   ]
  },
  {
   "cell_type": "code",
   "execution_count": 29,
   "metadata": {},
   "outputs": [],
   "source": [
    "nhbr_range = [10, 25, 50, 75] #, 50] #, 75] #, 200] #, 50, 75, 100]"
   ]
  },
  {
   "cell_type": "markdown",
   "metadata": {},
   "source": [
    "UBCF"
   ]
  },
  {
   "cell_type": "code",
   "execution_count": 30,
   "metadata": {},
   "outputs": [],
   "source": [
    "eval.add_algorithms([user_knn.UserUser(nnbrs = f, aggregate = 'weighted-average') for f in nhbr_range], \n",
    "                    attrs = ['nnbrs'], name = 'UserKNN-Weighted')\n",
    "\n",
    "eval.add_algorithms([user_knn.UserUser(nnbrs = f, aggregate = 'average') for f in nhbr_range], \n",
    "                    attrs = ['nnbrs'], name = 'UserKNN-Average')"
   ]
  },
  {
   "cell_type": "markdown",
   "metadata": {},
   "source": [
    "IBCF"
   ]
  },
  {
   "cell_type": "code",
   "execution_count": 31,
   "metadata": {},
   "outputs": [],
   "source": [
    "eval.add_algorithms([item_knn.ItemItem(nnbrs = f, aggregate = 'weighted-average') for f in nhbr_range], \n",
    "                    attrs = ['nnbrs'], name = 'ItemKNN-Weighted')\n",
    "\n",
    "eval.add_algorithms([item_knn.ItemItem(nnbrs = f, aggregate = 'average') for f in nhbr_range], \n",
    "                    attrs = ['nnbrs'], name = 'ItemKNN-Average')"
   ]
  },
  {
   "cell_type": "markdown",
   "metadata": {},
   "source": [
    "And finally, we will run the experiment!"
   ]
  },
  {
   "cell_type": "code",
   "execution_count": null,
   "metadata": {
    "scrolled": true
   },
   "outputs": [
    {
     "data": {
      "application/vnd.jupyter.widget-view+json": {
       "model_id": "be166d9fd22547d99d83ee439fed1577",
       "version_major": 2,
       "version_minor": 0
      },
      "text/plain": [
       "HBox(children=(FloatProgress(value=0.0, max=80.0), HTML(value='')))"
      ]
     },
     "metadata": {},
     "output_type": "display_data"
    },
    {
     "name": "stdout",
     "output_type": "stream",
     "text": [
      "[   INFO] lenskit.batch._multi starting run 1: UserUser(nnbrs=10, min_sim=0) on ML-Small:1\n",
      "[   INFO] lenskit.batch._multi adapting UserUser(nnbrs=10, min_sim=0) into a recommender\n",
      "[   INFO] lenskit.batch._multi training algorithm UserUser(nnbrs=10, min_sim=0) on 9930174 ratings\n",
      "[   INFO] lenskit.algorithms.basic trained unrated candidate selector for 9930174 ratings\n",
      "[   INFO] lenskit.batch._multi trained algorithm UserUser(nnbrs=10, min_sim=0) in 4.55s\n",
      "[   INFO] lenskit.batch._multi generating 69880 predictions for TopN/UserUser(nnbrs=10, min_sim=0)\n",
      "[   INFO] lenskit.sharing.shm serialized TopN/UserUser(nnbrs=10, min_sim=0) to 1137 pickle bytes with 13 buffers of 280494520 bytes\n",
      "[   INFO] lenskit.util.parallel setting up ProcessPoolExecutor w/ 4 workers\n",
      "[   INFO] lenskit.batch._predict generating 69880 predictions for 13976 users (setup took  289ms)\n",
      "[   INFO] lenskit.batch._predict generated 69880 predictions for 13976 users in 4m45.57s\n",
      "[   INFO] lenskit.batch._multi generated predictions in 4m46.69s\n",
      "[   INFO] lenskit.batch._multi run 1: writing results to my-eval\\predictions.parquet\n",
      "[   INFO] lenskit.batch._multi generating recommendations for 13976 users for TopN/UserUser(nnbrs=10, min_sim=0)\n",
      "[   INFO] lenskit.sharing.shm serialized TopN/UserUser(nnbrs=10, min_sim=0) to 1137 pickle bytes with 13 buffers of 280494520 bytes\n",
      "[   INFO] lenskit.util.parallel setting up ProcessPoolExecutor w/ 4 workers\n",
      "[   INFO] lenskit.batch._recommend recommending with TopN/UserUser(nnbrs=10, min_sim=0) for 13976 users (n_jobs=4)\n",
      "[   INFO] lenskit.batch._recommend recommended for 13976 users in 23m23.72s\n",
      "[   INFO] lenskit.batch._multi generated recommendations in 23m24.69s\n",
      "[   INFO] lenskit.batch._multi run 1: writing results to my-eval\\recommendations.parquet\n",
      "[   INFO] lenskit.batch._multi finished run 1: UserUser(nnbrs=10, min_sim=0) on ML-Small:1\n",
      "[   INFO] lenskit.batch._multi starting run 2: UserUser(nnbrs=25, min_sim=0) on ML-Small:1\n",
      "[   INFO] lenskit.batch._multi adapting UserUser(nnbrs=25, min_sim=0) into a recommender\n",
      "[   INFO] lenskit.batch._multi training algorithm UserUser(nnbrs=25, min_sim=0) on 9930174 ratings\n",
      "[   INFO] lenskit.algorithms.basic trained unrated candidate selector for 9930174 ratings\n",
      "[   INFO] lenskit.batch._multi trained algorithm UserUser(nnbrs=25, min_sim=0) in 4.35s\n",
      "[   INFO] lenskit.batch._multi generating 69880 predictions for TopN/UserUser(nnbrs=25, min_sim=0)\n",
      "[   INFO] lenskit.sharing.shm serialized TopN/UserUser(nnbrs=25, min_sim=0) to 1137 pickle bytes with 13 buffers of 280494520 bytes\n",
      "[   INFO] lenskit.util.parallel setting up ProcessPoolExecutor w/ 4 workers\n",
      "[   INFO] lenskit.batch._predict generating 69880 predictions for 13976 users (setup took  283ms)\n",
      "[   INFO] lenskit.batch._predict generated 69880 predictions for 13976 users in 4m43.73s\n",
      "[   INFO] lenskit.batch._multi generated predictions in 4m44.83s\n",
      "[   INFO] lenskit.batch._multi run 2: writing results to my-eval\\predictions.parquet\n",
      "[   INFO] lenskit.batch._multi generating recommendations for 13976 users for TopN/UserUser(nnbrs=25, min_sim=0)\n",
      "[   INFO] lenskit.sharing.shm serialized TopN/UserUser(nnbrs=25, min_sim=0) to 1137 pickle bytes with 13 buffers of 280494520 bytes\n",
      "[   INFO] lenskit.util.parallel setting up ProcessPoolExecutor w/ 4 workers\n",
      "[   INFO] lenskit.batch._recommend recommending with TopN/UserUser(nnbrs=25, min_sim=0) for 13976 users (n_jobs=4)\n",
      "[   INFO] lenskit.batch._recommend recommended for 13976 users in 21m54.29s\n",
      "[   INFO] lenskit.batch._multi generated recommendations in 21m55.34s\n",
      "[   INFO] lenskit.batch._multi run 2: writing results to my-eval\\recommendations.parquet\n",
      "[   INFO] lenskit.batch._multi finished run 2: UserUser(nnbrs=25, min_sim=0) on ML-Small:1\n",
      "[   INFO] lenskit.batch._multi starting run 3: UserUser(nnbrs=50, min_sim=0) on ML-Small:1\n",
      "[   INFO] lenskit.batch._multi adapting UserUser(nnbrs=50, min_sim=0) into a recommender\n",
      "[   INFO] lenskit.batch._multi training algorithm UserUser(nnbrs=50, min_sim=0) on 9930174 ratings\n",
      "[   INFO] lenskit.algorithms.basic trained unrated candidate selector for 9930174 ratings\n",
      "[   INFO] lenskit.batch._multi trained algorithm UserUser(nnbrs=50, min_sim=0) in 4.81s\n",
      "[   INFO] lenskit.batch._multi generating 69880 predictions for TopN/UserUser(nnbrs=50, min_sim=0)\n",
      "[   INFO] lenskit.sharing.shm serialized TopN/UserUser(nnbrs=50, min_sim=0) to 1137 pickle bytes with 13 buffers of 280494520 bytes\n",
      "[   INFO] lenskit.util.parallel setting up ProcessPoolExecutor w/ 4 workers\n",
      "[   INFO] lenskit.batch._predict generating 69880 predictions for 13976 users (setup took  267ms)\n",
      "[   INFO] lenskit.batch._predict generated 69880 predictions for 13976 users in 4m47.45s\n",
      "[   INFO] lenskit.batch._multi generated predictions in 4m48.63s\n",
      "[   INFO] lenskit.batch._multi run 3: writing results to my-eval\\predictions.parquet\n",
      "[   INFO] lenskit.batch._multi generating recommendations for 13976 users for TopN/UserUser(nnbrs=50, min_sim=0)\n",
      "[   INFO] lenskit.sharing.shm serialized TopN/UserUser(nnbrs=50, min_sim=0) to 1137 pickle bytes with 13 buffers of 280494520 bytes\n",
      "[   INFO] lenskit.util.parallel setting up ProcessPoolExecutor w/ 4 workers\n",
      "[   INFO] lenskit.batch._recommend recommending with TopN/UserUser(nnbrs=50, min_sim=0) for 13976 users (n_jobs=4)\n"
     ]
    }
   ],
   "source": [
    "eval.run(progress = tqdm)"
   ]
  },
  {
   "cell_type": "markdown",
   "metadata": {},
   "source": [
    "## Analysis\n",
    "\n",
    "Now that the experiment is run, we can read its outputs.\n",
    "\n",
    "First the run metadata:"
   ]
  },
  {
   "cell_type": "code",
   "execution_count": 13,
   "metadata": {},
   "outputs": [
    {
     "data": {
      "text/html": [
       "<div>\n",
       "<style scoped>\n",
       "    .dataframe tbody tr th:only-of-type {\n",
       "        vertical-align: middle;\n",
       "    }\n",
       "\n",
       "    .dataframe tbody tr th {\n",
       "        vertical-align: top;\n",
       "    }\n",
       "\n",
       "    .dataframe thead th {\n",
       "        text-align: right;\n",
       "    }\n",
       "</style>\n",
       "<table border=\"1\" class=\"dataframe\">\n",
       "  <thead>\n",
       "    <tr style=\"text-align: right;\">\n",
       "      <th></th>\n",
       "      <th>DataSet</th>\n",
       "      <th>Partition</th>\n",
       "      <th>AlgoClass</th>\n",
       "      <th>AlgoStr</th>\n",
       "      <th>name</th>\n",
       "      <th>nnbrs</th>\n",
       "      <th>TrainTime</th>\n",
       "      <th>PredTime</th>\n",
       "      <th>RecTime</th>\n",
       "    </tr>\n",
       "    <tr>\n",
       "      <th>RunId</th>\n",
       "      <th></th>\n",
       "      <th></th>\n",
       "      <th></th>\n",
       "      <th></th>\n",
       "      <th></th>\n",
       "      <th></th>\n",
       "      <th></th>\n",
       "      <th></th>\n",
       "      <th></th>\n",
       "    </tr>\n",
       "  </thead>\n",
       "  <tbody>\n",
       "    <tr>\n",
       "      <th>1</th>\n",
       "      <td>ML-Small</td>\n",
       "      <td>1</td>\n",
       "      <td>UserUser</td>\n",
       "      <td>UserUser(nnbrs=10, min_sim=0)</td>\n",
       "      <td>UserKNN-Weighted</td>\n",
       "      <td>10</td>\n",
       "      <td>5.557253</td>\n",
       "      <td>19.654374</td>\n",
       "      <td>25.528618</td>\n",
       "    </tr>\n",
       "    <tr>\n",
       "      <th>2</th>\n",
       "      <td>ML-Small</td>\n",
       "      <td>1</td>\n",
       "      <td>UserUser</td>\n",
       "      <td>UserUser(nnbrs=25, min_sim=0)</td>\n",
       "      <td>UserKNN-Weighted</td>\n",
       "      <td>25</td>\n",
       "      <td>0.479763</td>\n",
       "      <td>17.352510</td>\n",
       "      <td>27.266305</td>\n",
       "    </tr>\n",
       "    <tr>\n",
       "      <th>3</th>\n",
       "      <td>ML-Small</td>\n",
       "      <td>1</td>\n",
       "      <td>UserUser</td>\n",
       "      <td>UserUser(nnbrs=50, min_sim=0)</td>\n",
       "      <td>UserKNN-Weighted</td>\n",
       "      <td>50</td>\n",
       "      <td>0.456338</td>\n",
       "      <td>17.627729</td>\n",
       "      <td>28.645370</td>\n",
       "    </tr>\n",
       "    <tr>\n",
       "      <th>4</th>\n",
       "      <td>ML-Small</td>\n",
       "      <td>1</td>\n",
       "      <td>UserUser</td>\n",
       "      <td>UserUser(nnbrs=75, min_sim=0)</td>\n",
       "      <td>UserKNN-Weighted</td>\n",
       "      <td>75</td>\n",
       "      <td>0.430928</td>\n",
       "      <td>17.601646</td>\n",
       "      <td>30.146061</td>\n",
       "    </tr>\n",
       "    <tr>\n",
       "      <th>5</th>\n",
       "      <td>ML-Small</td>\n",
       "      <td>1</td>\n",
       "      <td>UserUser</td>\n",
       "      <td>UserUser(nnbrs=10, min_sim=0)</td>\n",
       "      <td>UserKNN-Average</td>\n",
       "      <td>10</td>\n",
       "      <td>0.483857</td>\n",
       "      <td>17.576997</td>\n",
       "      <td>26.088862</td>\n",
       "    </tr>\n",
       "  </tbody>\n",
       "</table>\n",
       "</div>"
      ],
      "text/plain": [
       "        DataSet  Partition AlgoClass                        AlgoStr  \\\n",
       "RunId                                                                 \n",
       "1      ML-Small          1  UserUser  UserUser(nnbrs=10, min_sim=0)   \n",
       "2      ML-Small          1  UserUser  UserUser(nnbrs=25, min_sim=0)   \n",
       "3      ML-Small          1  UserUser  UserUser(nnbrs=50, min_sim=0)   \n",
       "4      ML-Small          1  UserUser  UserUser(nnbrs=75, min_sim=0)   \n",
       "5      ML-Small          1  UserUser  UserUser(nnbrs=10, min_sim=0)   \n",
       "\n",
       "                   name  nnbrs  TrainTime   PredTime    RecTime  \n",
       "RunId                                                            \n",
       "1      UserKNN-Weighted     10   5.557253  19.654374  25.528618  \n",
       "2      UserKNN-Weighted     25   0.479763  17.352510  27.266305  \n",
       "3      UserKNN-Weighted     50   0.456338  17.627729  28.645370  \n",
       "4      UserKNN-Weighted     75   0.430928  17.601646  30.146061  \n",
       "5       UserKNN-Average     10   0.483857  17.576997  26.088862  "
      ]
     },
     "execution_count": 13,
     "metadata": {},
     "output_type": "execute_result"
    }
   ],
   "source": [
    "runs = pd.read_csv('my-eval/runs.csv')\n",
    "runs.set_index('RunId', inplace = True)\n",
    "runs.head()"
   ]
  },
  {
   "cell_type": "markdown",
   "metadata": {},
   "source": [
    "This describes each run - a data set, partition, and algorithm combination.  To evaluate, we need to get the actual recommendations, and combine them with this:"
   ]
  },
  {
   "cell_type": "code",
   "execution_count": 14,
   "metadata": {},
   "outputs": [
    {
     "data": {
      "text/html": [
       "<div>\n",
       "<style scoped>\n",
       "    .dataframe tbody tr th:only-of-type {\n",
       "        vertical-align: middle;\n",
       "    }\n",
       "\n",
       "    .dataframe tbody tr th {\n",
       "        vertical-align: top;\n",
       "    }\n",
       "\n",
       "    .dataframe thead th {\n",
       "        text-align: right;\n",
       "    }\n",
       "</style>\n",
       "<table border=\"1\" class=\"dataframe\">\n",
       "  <thead>\n",
       "    <tr style=\"text-align: right;\">\n",
       "      <th></th>\n",
       "      <th>item</th>\n",
       "      <th>score</th>\n",
       "      <th>user</th>\n",
       "      <th>rank</th>\n",
       "      <th>RunId</th>\n",
       "    </tr>\n",
       "  </thead>\n",
       "  <tbody>\n",
       "    <tr>\n",
       "      <th>0</th>\n",
       "      <td>572</td>\n",
       "      <td>5.046758</td>\n",
       "      <td>5</td>\n",
       "      <td>1</td>\n",
       "      <td>1</td>\n",
       "    </tr>\n",
       "    <tr>\n",
       "      <th>1</th>\n",
       "      <td>557</td>\n",
       "      <td>4.966881</td>\n",
       "      <td>5</td>\n",
       "      <td>2</td>\n",
       "      <td>1</td>\n",
       "    </tr>\n",
       "    <tr>\n",
       "      <th>2</th>\n",
       "      <td>2309</td>\n",
       "      <td>4.745716</td>\n",
       "      <td>5</td>\n",
       "      <td>3</td>\n",
       "      <td>1</td>\n",
       "    </tr>\n",
       "    <tr>\n",
       "      <th>3</th>\n",
       "      <td>1787</td>\n",
       "      <td>4.689896</td>\n",
       "      <td>5</td>\n",
       "      <td>4</td>\n",
       "      <td>1</td>\n",
       "    </tr>\n",
       "    <tr>\n",
       "      <th>4</th>\n",
       "      <td>1149</td>\n",
       "      <td>4.594458</td>\n",
       "      <td>5</td>\n",
       "      <td>5</td>\n",
       "      <td>1</td>\n",
       "    </tr>\n",
       "  </tbody>\n",
       "</table>\n",
       "</div>"
      ],
      "text/plain": [
       "   item     score  user  rank  RunId\n",
       "0   572  5.046758     5     1      1\n",
       "1   557  4.966881     5     2      1\n",
       "2  2309  4.745716     5     3      1\n",
       "3  1787  4.689896     5     4      1\n",
       "4  1149  4.594458     5     5      1"
      ]
     },
     "execution_count": 14,
     "metadata": {},
     "output_type": "execute_result"
    }
   ],
   "source": [
    "recs = pd.read_parquet('my-eval/recommendations.parquet')\n",
    "#del recs['RunId']\n",
    "recs.head()"
   ]
  },
  {
   "cell_type": "code",
   "execution_count": null,
   "metadata": {},
   "outputs": [],
   "source": [
    "recs"
   ]
  },
  {
   "cell_type": "markdown",
   "metadata": {},
   "source": [
    "Getting the predictions..."
   ]
  },
  {
   "cell_type": "code",
   "execution_count": 15,
   "metadata": {},
   "outputs": [
    {
     "data": {
      "text/html": [
       "<div>\n",
       "<style scoped>\n",
       "    .dataframe tbody tr th:only-of-type {\n",
       "        vertical-align: middle;\n",
       "    }\n",
       "\n",
       "    .dataframe tbody tr th {\n",
       "        vertical-align: top;\n",
       "    }\n",
       "\n",
       "    .dataframe thead th {\n",
       "        text-align: right;\n",
       "    }\n",
       "</style>\n",
       "<table border=\"1\" class=\"dataframe\">\n",
       "  <thead>\n",
       "    <tr style=\"text-align: right;\">\n",
       "      <th></th>\n",
       "      <th>RunId</th>\n",
       "      <th>user</th>\n",
       "      <th>item</th>\n",
       "      <th>rating</th>\n",
       "      <th>prediction</th>\n",
       "    </tr>\n",
       "  </thead>\n",
       "  <tbody>\n",
       "    <tr>\n",
       "      <th>0</th>\n",
       "      <td>1</td>\n",
       "      <td>5</td>\n",
       "      <td>3514</td>\n",
       "      <td>2.0</td>\n",
       "      <td>2.737919</td>\n",
       "    </tr>\n",
       "    <tr>\n",
       "      <th>1</th>\n",
       "      <td>1</td>\n",
       "      <td>5</td>\n",
       "      <td>1759</td>\n",
       "      <td>4.0</td>\n",
       "      <td>3.863363</td>\n",
       "    </tr>\n",
       "    <tr>\n",
       "      <th>2</th>\n",
       "      <td>1</td>\n",
       "      <td>5</td>\n",
       "      <td>3476</td>\n",
       "      <td>3.0</td>\n",
       "      <td>3.075272</td>\n",
       "    </tr>\n",
       "    <tr>\n",
       "      <th>3</th>\n",
       "      <td>1</td>\n",
       "      <td>5</td>\n",
       "      <td>1192</td>\n",
       "      <td>5.0</td>\n",
       "      <td>3.812009</td>\n",
       "    </tr>\n",
       "    <tr>\n",
       "      <th>4</th>\n",
       "      <td>1</td>\n",
       "      <td>5</td>\n",
       "      <td>1909</td>\n",
       "      <td>3.0</td>\n",
       "      <td>2.253495</td>\n",
       "    </tr>\n",
       "    <tr>\n",
       "      <th>...</th>\n",
       "      <td>...</td>\n",
       "      <td>...</td>\n",
       "      <td>...</td>\n",
       "      <td>...</td>\n",
       "      <td>...</td>\n",
       "    </tr>\n",
       "    <tr>\n",
       "      <th>483195</th>\n",
       "      <td>9</td>\n",
       "      <td>6038</td>\n",
       "      <td>1419</td>\n",
       "      <td>4.0</td>\n",
       "      <td>3.550519</td>\n",
       "    </tr>\n",
       "    <tr>\n",
       "      <th>483196</th>\n",
       "      <td>9</td>\n",
       "      <td>6038</td>\n",
       "      <td>3548</td>\n",
       "      <td>4.0</td>\n",
       "      <td>3.589343</td>\n",
       "    </tr>\n",
       "    <tr>\n",
       "      <th>483197</th>\n",
       "      <td>9</td>\n",
       "      <td>6038</td>\n",
       "      <td>1223</td>\n",
       "      <td>5.0</td>\n",
       "      <td>3.853757</td>\n",
       "    </tr>\n",
       "    <tr>\n",
       "      <th>483198</th>\n",
       "      <td>9</td>\n",
       "      <td>6038</td>\n",
       "      <td>1148</td>\n",
       "      <td>5.0</td>\n",
       "      <td>4.230793</td>\n",
       "    </tr>\n",
       "    <tr>\n",
       "      <th>483199</th>\n",
       "      <td>9</td>\n",
       "      <td>6038</td>\n",
       "      <td>3088</td>\n",
       "      <td>5.0</td>\n",
       "      <td>3.721450</td>\n",
       "    </tr>\n",
       "  </tbody>\n",
       "</table>\n",
       "<p>483200 rows × 5 columns</p>\n",
       "</div>"
      ],
      "text/plain": [
       "        RunId  user  item  rating  prediction\n",
       "0           1     5  3514     2.0    2.737919\n",
       "1           1     5  1759     4.0    3.863363\n",
       "2           1     5  3476     3.0    3.075272\n",
       "3           1     5  1192     5.0    3.812009\n",
       "4           1     5  1909     3.0    2.253495\n",
       "...       ...   ...   ...     ...         ...\n",
       "483195      9  6038  1419     4.0    3.550519\n",
       "483196      9  6038  3548     4.0    3.589343\n",
       "483197      9  6038  1223     5.0    3.853757\n",
       "483198      9  6038  1148     5.0    4.230793\n",
       "483199      9  6038  3088     5.0    3.721450\n",
       "\n",
       "[483200 rows x 5 columns]"
      ]
     },
     "execution_count": 15,
     "metadata": {},
     "output_type": "execute_result"
    }
   ],
   "source": [
    "preds = pd.read_parquet('my-eval/predictions.parquet')\n",
    "preds"
   ]
  },
  {
   "cell_type": "markdown",
   "metadata": {},
   "source": [
    "We're going to compute per-(run,user) evaluations of the recommendations *before* combining with metadata. \n",
    "\n",
    "In order to evaluate the recommendation list, we need to build a combined set of truth data. Since this is a disjoint partition of users over a single data set, we can just concatenate the individual test frames:"
   ]
  },
  {
   "cell_type": "code",
   "execution_count": 16,
   "metadata": {},
   "outputs": [
    {
     "data": {
      "text/html": [
       "<div>\n",
       "<style scoped>\n",
       "    .dataframe tbody tr th:only-of-type {\n",
       "        vertical-align: middle;\n",
       "    }\n",
       "\n",
       "    .dataframe tbody tr th {\n",
       "        vertical-align: top;\n",
       "    }\n",
       "\n",
       "    .dataframe thead th {\n",
       "        text-align: right;\n",
       "    }\n",
       "</style>\n",
       "<table border=\"1\" class=\"dataframe\">\n",
       "  <thead>\n",
       "    <tr style=\"text-align: right;\">\n",
       "      <th></th>\n",
       "      <th>Unnamed: 0</th>\n",
       "      <th>user</th>\n",
       "      <th>item</th>\n",
       "      <th>rating</th>\n",
       "      <th>timestamp</th>\n",
       "    </tr>\n",
       "  </thead>\n",
       "  <tbody>\n",
       "    <tr>\n",
       "      <th>0</th>\n",
       "      <td>319</td>\n",
       "      <td>5</td>\n",
       "      <td>3514</td>\n",
       "      <td>2.0</td>\n",
       "      <td>978243869</td>\n",
       "    </tr>\n",
       "    <tr>\n",
       "      <th>1</th>\n",
       "      <td>272</td>\n",
       "      <td>5</td>\n",
       "      <td>1759</td>\n",
       "      <td>4.0</td>\n",
       "      <td>978245513</td>\n",
       "    </tr>\n",
       "    <tr>\n",
       "      <th>2</th>\n",
       "      <td>384</td>\n",
       "      <td>5</td>\n",
       "      <td>3476</td>\n",
       "      <td>3.0</td>\n",
       "      <td>978245916</td>\n",
       "    </tr>\n",
       "    <tr>\n",
       "      <th>3</th>\n",
       "      <td>307</td>\n",
       "      <td>5</td>\n",
       "      <td>1192</td>\n",
       "      <td>5.0</td>\n",
       "      <td>978244493</td>\n",
       "    </tr>\n",
       "    <tr>\n",
       "      <th>4</th>\n",
       "      <td>293</td>\n",
       "      <td>5</td>\n",
       "      <td>1909</td>\n",
       "      <td>3.0</td>\n",
       "      <td>978246479</td>\n",
       "    </tr>\n",
       "    <tr>\n",
       "      <th>...</th>\n",
       "      <td>...</td>\n",
       "      <td>...</td>\n",
       "      <td>...</td>\n",
       "      <td>...</td>\n",
       "      <td>...</td>\n",
       "    </tr>\n",
       "    <tr>\n",
       "      <th>30195</th>\n",
       "      <td>998294</td>\n",
       "      <td>6033</td>\n",
       "      <td>1954</td>\n",
       "      <td>4.0</td>\n",
       "      <td>956713865</td>\n",
       "    </tr>\n",
       "    <tr>\n",
       "      <th>30196</th>\n",
       "      <td>998303</td>\n",
       "      <td>6033</td>\n",
       "      <td>1210</td>\n",
       "      <td>4.0</td>\n",
       "      <td>956713950</td>\n",
       "    </tr>\n",
       "    <tr>\n",
       "      <th>30197</th>\n",
       "      <td>998309</td>\n",
       "      <td>6033</td>\n",
       "      <td>733</td>\n",
       "      <td>3.0</td>\n",
       "      <td>956713999</td>\n",
       "    </tr>\n",
       "    <tr>\n",
       "      <th>30198</th>\n",
       "      <td>998301</td>\n",
       "      <td>6033</td>\n",
       "      <td>2947</td>\n",
       "      <td>4.0</td>\n",
       "      <td>956713950</td>\n",
       "    </tr>\n",
       "    <tr>\n",
       "      <th>30199</th>\n",
       "      <td>998277</td>\n",
       "      <td>6033</td>\n",
       "      <td>3053</td>\n",
       "      <td>4.0</td>\n",
       "      <td>956713676</td>\n",
       "    </tr>\n",
       "  </tbody>\n",
       "</table>\n",
       "<p>30200 rows × 5 columns</p>\n",
       "</div>"
      ],
      "text/plain": [
       "       Unnamed: 0  user  item  rating  timestamp\n",
       "0             319     5  3514     2.0  978243869\n",
       "1             272     5  1759     4.0  978245513\n",
       "2             384     5  3476     3.0  978245916\n",
       "3             307     5  1192     5.0  978244493\n",
       "4             293     5  1909     3.0  978246479\n",
       "...           ...   ...   ...     ...        ...\n",
       "30195      998294  6033  1954     4.0  956713865\n",
       "30196      998303  6033  1210     4.0  956713950\n",
       "30197      998309  6033   733     3.0  956713999\n",
       "30198      998301  6033  2947     4.0  956713950\n",
       "30199      998277  6033  3053     4.0  956713676\n",
       "\n",
       "[30200 rows x 5 columns]"
      ]
     },
     "execution_count": 16,
     "metadata": {},
     "output_type": "execute_result"
    }
   ],
   "source": [
    "truth = pd.concat((p.test for p in pairs), ignore_index = True)\n",
    "truth"
   ]
  },
  {
   "cell_type": "markdown",
   "metadata": {},
   "source": [
    "Now we can set up an analysis and compute the results."
   ]
  },
  {
   "cell_type": "code",
   "execution_count": 17,
   "metadata": {
    "scrolled": true
   },
   "outputs": [
    {
     "name": "stdout",
     "output_type": "stream",
     "text": [
      "[   INFO] lenskit.topn analyzing 9663600 recommendations (30200 truth rows)\n",
      "[   INFO] lenskit.topn using rec key columns ['RunId', 'user']\n",
      "[   INFO] lenskit.topn using truth key columns ['user']\n",
      "[   INFO] lenskit.topn collecting truth data\n",
      "[   INFO] lenskit.topn collecting metric results\n",
      "[   INFO] lenskit.sharing.shm serialized <lenskit.topn._RLAJob object at 0x00000166C1465D00> to 2634822 pickle bytes with 24163 buffers of 310080800 bytes\n",
      "[   INFO] lenskit.util.parallel setting up ProcessPoolExecutor w/ 2 workers\n",
      "[   INFO] lenskit.topn measured 96636 lists in 2m56.91s\n"
     ]
    },
    {
     "data": {
      "text/html": [
       "<div>\n",
       "<style scoped>\n",
       "    .dataframe tbody tr th:only-of-type {\n",
       "        vertical-align: middle;\n",
       "    }\n",
       "\n",
       "    .dataframe tbody tr th {\n",
       "        vertical-align: top;\n",
       "    }\n",
       "\n",
       "    .dataframe thead th {\n",
       "        text-align: right;\n",
       "    }\n",
       "</style>\n",
       "<table border=\"1\" class=\"dataframe\">\n",
       "  <thead>\n",
       "    <tr style=\"text-align: right;\">\n",
       "      <th></th>\n",
       "      <th></th>\n",
       "      <th>nrecs</th>\n",
       "      <th>ndcg</th>\n",
       "      <th>precision</th>\n",
       "    </tr>\n",
       "    <tr>\n",
       "      <th>RunId</th>\n",
       "      <th>user</th>\n",
       "      <th></th>\n",
       "      <th></th>\n",
       "      <th></th>\n",
       "    </tr>\n",
       "  </thead>\n",
       "  <tbody>\n",
       "    <tr>\n",
       "      <th rowspan=\"5\" valign=\"top\">1</th>\n",
       "      <th>5</th>\n",
       "      <td>100.0</td>\n",
       "      <td>0.000000</td>\n",
       "      <td>0.00</td>\n",
       "    </tr>\n",
       "    <tr>\n",
       "      <th>6</th>\n",
       "      <td>100.0</td>\n",
       "      <td>0.000000</td>\n",
       "      <td>0.00</td>\n",
       "    </tr>\n",
       "    <tr>\n",
       "      <th>15</th>\n",
       "      <td>100.0</td>\n",
       "      <td>0.268005</td>\n",
       "      <td>0.03</td>\n",
       "    </tr>\n",
       "    <tr>\n",
       "      <th>27</th>\n",
       "      <td>100.0</td>\n",
       "      <td>0.000000</td>\n",
       "      <td>0.00</td>\n",
       "    </tr>\n",
       "    <tr>\n",
       "      <th>28</th>\n",
       "      <td>100.0</td>\n",
       "      <td>0.045068</td>\n",
       "      <td>0.01</td>\n",
       "    </tr>\n",
       "  </tbody>\n",
       "</table>\n",
       "</div>"
      ],
      "text/plain": [
       "            nrecs      ndcg  precision\n",
       "RunId user                            \n",
       "1     5     100.0  0.000000       0.00\n",
       "      6     100.0  0.000000       0.00\n",
       "      15    100.0  0.268005       0.03\n",
       "      27    100.0  0.000000       0.00\n",
       "      28    100.0  0.045068       0.01"
      ]
     },
     "execution_count": 17,
     "metadata": {},
     "output_type": "execute_result"
    }
   ],
   "source": [
    "rla = topn.RecListAnalysis()\n",
    "rla.add_metric(topn.ndcg) # precision, recall, recip_rank, dcg, ndcg\n",
    "rla.add_metric(topn.precision)\n",
    "#rla.add_metric(predict.rmse)\n",
    "raw_ndcg = rla.compute(recs, truth)\n",
    "raw_ndcg.head()"
   ]
  },
  {
   "cell_type": "markdown",
   "metadata": {},
   "source": [
    "Next, we need to combine this with our run data, so that we know what algorithms and configurations we are evaluating:"
   ]
  },
  {
   "cell_type": "code",
   "execution_count": 18,
   "metadata": {},
   "outputs": [
    {
     "data": {
      "text/html": [
       "<div>\n",
       "<style scoped>\n",
       "    .dataframe tbody tr th:only-of-type {\n",
       "        vertical-align: middle;\n",
       "    }\n",
       "\n",
       "    .dataframe tbody tr th {\n",
       "        vertical-align: top;\n",
       "    }\n",
       "\n",
       "    .dataframe thead th {\n",
       "        text-align: right;\n",
       "    }\n",
       "</style>\n",
       "<table border=\"1\" class=\"dataframe\">\n",
       "  <thead>\n",
       "    <tr style=\"text-align: right;\">\n",
       "      <th></th>\n",
       "      <th></th>\n",
       "      <th>nrecs</th>\n",
       "      <th>ndcg</th>\n",
       "      <th>precision</th>\n",
       "      <th>name</th>\n",
       "      <th>nnbrs</th>\n",
       "    </tr>\n",
       "    <tr>\n",
       "      <th>RunId</th>\n",
       "      <th>user</th>\n",
       "      <th></th>\n",
       "      <th></th>\n",
       "      <th></th>\n",
       "      <th></th>\n",
       "      <th></th>\n",
       "    </tr>\n",
       "  </thead>\n",
       "  <tbody>\n",
       "    <tr>\n",
       "      <th rowspan=\"5\" valign=\"top\">1</th>\n",
       "      <th>5</th>\n",
       "      <td>100.0</td>\n",
       "      <td>0.000000</td>\n",
       "      <td>0.00</td>\n",
       "      <td>UserKNN-Weighted</td>\n",
       "      <td>10</td>\n",
       "    </tr>\n",
       "    <tr>\n",
       "      <th>6</th>\n",
       "      <td>100.0</td>\n",
       "      <td>0.000000</td>\n",
       "      <td>0.00</td>\n",
       "      <td>UserKNN-Weighted</td>\n",
       "      <td>10</td>\n",
       "    </tr>\n",
       "    <tr>\n",
       "      <th>15</th>\n",
       "      <td>100.0</td>\n",
       "      <td>0.268005</td>\n",
       "      <td>0.03</td>\n",
       "      <td>UserKNN-Weighted</td>\n",
       "      <td>10</td>\n",
       "    </tr>\n",
       "    <tr>\n",
       "      <th>27</th>\n",
       "      <td>100.0</td>\n",
       "      <td>0.000000</td>\n",
       "      <td>0.00</td>\n",
       "      <td>UserKNN-Weighted</td>\n",
       "      <td>10</td>\n",
       "    </tr>\n",
       "    <tr>\n",
       "      <th>28</th>\n",
       "      <td>100.0</td>\n",
       "      <td>0.045068</td>\n",
       "      <td>0.01</td>\n",
       "      <td>UserKNN-Weighted</td>\n",
       "      <td>10</td>\n",
       "    </tr>\n",
       "  </tbody>\n",
       "</table>\n",
       "</div>"
      ],
      "text/plain": [
       "            nrecs      ndcg  precision              name  nnbrs\n",
       "RunId user                                                     \n",
       "1     5     100.0  0.000000       0.00  UserKNN-Weighted     10\n",
       "      6     100.0  0.000000       0.00  UserKNN-Weighted     10\n",
       "      15    100.0  0.268005       0.03  UserKNN-Weighted     10\n",
       "      27    100.0  0.000000       0.00  UserKNN-Weighted     10\n",
       "      28    100.0  0.045068       0.01  UserKNN-Weighted     10"
      ]
     },
     "execution_count": 18,
     "metadata": {},
     "output_type": "execute_result"
    }
   ],
   "source": [
    "### FOR NEIGHBORHOOD-BASED METHODS ONLY ###\n",
    "ndcg = raw_ndcg.join(runs[['name', 'nnbrs']], on = 'RunId')\n",
    "ndcg.head()"
   ]
  },
  {
   "cell_type": "markdown",
   "metadata": {},
   "source": [
    "We can compute the overall average performance for each algorithm configuration - fillna makes the group-by happy with Popular's lack of a feature count:"
   ]
  },
  {
   "cell_type": "code",
   "execution_count": 19,
   "metadata": {
    "scrolled": false
   },
   "outputs": [
    {
     "name": "stderr",
     "output_type": "stream",
     "text": [
      "<ipython-input-19-9f49e897c919>:2: FutureWarning: Indexing with multiple keys (implicitly converted to a tuple of keys) will be deprecated, use a list instead.\n",
      "  ndcg.fillna(0).groupby(['name', 'nnbrs'])['ndcg','precision'].mean()\n"
     ]
    },
    {
     "data": {
      "text/html": [
       "<div>\n",
       "<style scoped>\n",
       "    .dataframe tbody tr th:only-of-type {\n",
       "        vertical-align: middle;\n",
       "    }\n",
       "\n",
       "    .dataframe tbody tr th {\n",
       "        vertical-align: top;\n",
       "    }\n",
       "\n",
       "    .dataframe thead th {\n",
       "        text-align: right;\n",
       "    }\n",
       "</style>\n",
       "<table border=\"1\" class=\"dataframe\">\n",
       "  <thead>\n",
       "    <tr style=\"text-align: right;\">\n",
       "      <th></th>\n",
       "      <th></th>\n",
       "      <th>ndcg</th>\n",
       "      <th>precision</th>\n",
       "    </tr>\n",
       "    <tr>\n",
       "      <th>name</th>\n",
       "      <th>nnbrs</th>\n",
       "      <th></th>\n",
       "      <th></th>\n",
       "    </tr>\n",
       "  </thead>\n",
       "  <tbody>\n",
       "    <tr>\n",
       "      <th rowspan=\"4\" valign=\"top\">ItemKNN-Average</th>\n",
       "      <th>10</th>\n",
       "      <td>0.041646</td>\n",
       "      <td>0.006123</td>\n",
       "    </tr>\n",
       "    <tr>\n",
       "      <th>25</th>\n",
       "      <td>0.040809</td>\n",
       "      <td>0.006389</td>\n",
       "    </tr>\n",
       "    <tr>\n",
       "      <th>50</th>\n",
       "      <td>0.038676</td>\n",
       "      <td>0.006257</td>\n",
       "    </tr>\n",
       "    <tr>\n",
       "      <th>75</th>\n",
       "      <td>0.037665</td>\n",
       "      <td>0.006210</td>\n",
       "    </tr>\n",
       "    <tr>\n",
       "      <th rowspan=\"4\" valign=\"top\">ItemKNN-Weighted</th>\n",
       "      <th>10</th>\n",
       "      <td>0.041580</td>\n",
       "      <td>0.006156</td>\n",
       "    </tr>\n",
       "    <tr>\n",
       "      <th>25</th>\n",
       "      <td>0.040937</td>\n",
       "      <td>0.006339</td>\n",
       "    </tr>\n",
       "    <tr>\n",
       "      <th>50</th>\n",
       "      <td>0.039854</td>\n",
       "      <td>0.006336</td>\n",
       "    </tr>\n",
       "    <tr>\n",
       "      <th>75</th>\n",
       "      <td>0.038922</td>\n",
       "      <td>0.006270</td>\n",
       "    </tr>\n",
       "    <tr>\n",
       "      <th rowspan=\"4\" valign=\"top\">UserKNN-Average</th>\n",
       "      <th>10</th>\n",
       "      <td>0.033548</td>\n",
       "      <td>0.005200</td>\n",
       "    </tr>\n",
       "    <tr>\n",
       "      <th>25</th>\n",
       "      <td>0.037122</td>\n",
       "      <td>0.006041</td>\n",
       "    </tr>\n",
       "    <tr>\n",
       "      <th>50</th>\n",
       "      <td>0.038699</td>\n",
       "      <td>0.006447</td>\n",
       "    </tr>\n",
       "    <tr>\n",
       "      <th>75</th>\n",
       "      <td>0.039609</td>\n",
       "      <td>0.006652</td>\n",
       "    </tr>\n",
       "    <tr>\n",
       "      <th rowspan=\"4\" valign=\"top\">UserKNN-Weighted</th>\n",
       "      <th>10</th>\n",
       "      <td>0.031351</td>\n",
       "      <td>0.004945</td>\n",
       "    </tr>\n",
       "    <tr>\n",
       "      <th>25</th>\n",
       "      <td>0.034002</td>\n",
       "      <td>0.005637</td>\n",
       "    </tr>\n",
       "    <tr>\n",
       "      <th>50</th>\n",
       "      <td>0.034999</td>\n",
       "      <td>0.005913</td>\n",
       "    </tr>\n",
       "    <tr>\n",
       "      <th>75</th>\n",
       "      <td>0.035670</td>\n",
       "      <td>0.006092</td>\n",
       "    </tr>\n",
       "  </tbody>\n",
       "</table>\n",
       "</div>"
      ],
      "text/plain": [
       "                            ndcg  precision\n",
       "name             nnbrs                     \n",
       "ItemKNN-Average  10     0.041646   0.006123\n",
       "                 25     0.040809   0.006389\n",
       "                 50     0.038676   0.006257\n",
       "                 75     0.037665   0.006210\n",
       "ItemKNN-Weighted 10     0.041580   0.006156\n",
       "                 25     0.040937   0.006339\n",
       "                 50     0.039854   0.006336\n",
       "                 75     0.038922   0.006270\n",
       "UserKNN-Average  10     0.033548   0.005200\n",
       "                 25     0.037122   0.006041\n",
       "                 50     0.038699   0.006447\n",
       "                 75     0.039609   0.006652\n",
       "UserKNN-Weighted 10     0.031351   0.004945\n",
       "                 25     0.034002   0.005637\n",
       "                 50     0.034999   0.005913\n",
       "                 75     0.035670   0.006092"
      ]
     },
     "execution_count": 19,
     "metadata": {},
     "output_type": "execute_result"
    }
   ],
   "source": [
    "### FOR NEIGHBORHOOD-BASED METHODS ONLY ###\n",
    "ndcg.fillna(0).groupby(['name', 'nnbrs'])['ndcg','precision'].mean()"
   ]
  },
  {
   "cell_type": "markdown",
   "metadata": {},
   "source": [
    "Now, we can plot this:"
   ]
  },
  {
   "cell_type": "code",
   "execution_count": 23,
   "metadata": {},
   "outputs": [
    {
     "data": {
      "text/plain": [
       "Text(0, 0.5, 'nDCG')"
      ]
     },
     "execution_count": 23,
     "metadata": {},
     "output_type": "execute_result"
    },
    {
     "data": {
      "image/png": "[encoded data removed]",
      "text/plain": [
       "<Figure size 432x288 with 1 Axes>"
      ]
     },
     "metadata": {
      "needs_background": "light"
     },
     "output_type": "display_data"
    }
   ],
   "source": [
    "### FOR NEIGHBORHOOD-BASED METHODS ONLY ###\n",
    "scores = ndcg.groupby(['name', 'nnbrs'])['ndcg'].mean().reset_index()\n",
    "#pop_score = ndcg[ndcg['AlgoClass'] == 'Popular']['ndcg'].mean()\n",
    "#plt.axhline(pop_score, color='grey', linestyle='--', label='Popular')\n",
    "for algo, data in scores.groupby('name'):\n",
    "    plt.plot(data['nnbrs'], data['ndcg'], label=algo)\n",
    "    \n",
    "#plt.yticks(np.arange(0.002, 0.011, 0.001))\n",
    "plt.legend()\n",
    "plt.xlabel('nnbrs')\n",
    "plt.ylabel('nDCG')"
   ]
  },
  {
   "cell_type": "code",
   "execution_count": 24,
   "metadata": {},
   "outputs": [
    {
     "data": {
      "text/plain": [
       "Text(0, 0.5, 'Precision')"
      ]
     },
     "execution_count": 24,
     "metadata": {},
     "output_type": "execute_result"
    },
    {
     "data": {
      "image/png": "[encoded data removed]",
      "text/plain": [
       "<Figure size 432x288 with 1 Axes>"
      ]
     },
     "metadata": {
      "needs_background": "light"
     },
     "output_type": "display_data"
    }
   ],
   "source": [
    "### FOR NEIGHBORHOOD-BASED METHODS ONLY ###\n",
    "scores = ndcg.groupby(['name', 'nnbrs'])['precision'].mean().reset_index()\n",
    "#pop_score = ndcg[ndcg['AlgoClass'] == 'Popular']['ndcg'].mean()\n",
    "#plt.axhline(pop_score, color='grey', linestyle='--', label='Popular')\n",
    "for algo, data in scores.groupby('name'):\n",
    "    plt.plot(data['nnbrs'], data['precision'], label=algo)\n",
    "    \n",
    "#plt.yticks(np.arange(0.0015, 0.006, 0.0005))\n",
    "plt.legend()\n",
    "plt.xlabel('nnbrs')\n",
    "plt.ylabel('Precision')"
   ]
  },
  {
   "cell_type": "code",
   "execution_count": null,
   "metadata": {},
   "outputs": [],
   "source": [
    "#truth # user, item, rating, timestamp - 3355\n",
    "#preds # RunId, user, item rating, prediction\n",
    "\n",
    "### FOR NEIGHBORHOOD-BASED METHODS ONLY ###\n",
    "pred_acc = preds.join(runs[['name', 'nnbrs']], on = 'RunId')\n",
    "pred_acc.head()\n",
    "\n",
    "\n",
    "#from lenskit.metrics.predict import rmse\n",
    "#rmse(preds['prediction'], preds['rating'])"
   ]
  },
  {
   "cell_type": "code",
   "execution_count": null,
   "metadata": {},
   "outputs": [],
   "source": [
    "#pred_acc.loc[pred_acc['prediction'] > 5,'prediction'] = 5\n",
    "#pred_acc.loc[pred_acc['prediction'] < 1,'prediction'] = 1\n",
    "\n",
    "pred_acc['se'] = (pred_acc['rating'] - pred_acc['prediction'])**2"
   ]
  },
  {
   "cell_type": "code",
   "execution_count": null,
   "metadata": {},
   "outputs": [],
   "source": [
    "np.sqrt(pred_acc.groupby(['name', 'nnbrs'])['se'].mean())"
   ]
  },
  {
   "cell_type": "code",
   "execution_count": null,
   "metadata": {},
   "outputs": [],
   "source": [
    "### FOR NEIGHBORHOOD-BASED METHODS ONLY ###\n",
    "knn_pred_scores = np.sqrt(pred_acc.groupby(['name', 'nnbrs'])['se'].mean()).reset_index()\n",
    "knn_pred_scores.head()\n",
    "#pop_score = ndcg[ndcg['AlgoClass'] == 'Popular']['ndcg'].mean()\n",
    "#plt.axhline(pop_score, color='grey', linestyle='--', label='Popular')\n",
    "for algo, data in knn_pred_scores.groupby('name'):\n",
    "    plt.plot(data['nnbrs'], data['se'], label=algo)\n",
    "plt.legend()\n",
    "plt.xlabel('nnbrs')\n",
    "plt.ylabel('RMSE')"
   ]
  }
 ],
 "metadata": {
  "kernelspec": {
   "display_name": "Python 3",
   "language": "python",
   "name": "python3"
  },
  "language_info": {
   "codemirror_mode": {
    "name": "ipython",
    "version": 3
   },
   "file_extension": ".py",
   "mimetype": "text/x-python",
   "name": "python",
   "nbconvert_exporter": "python",
   "pygments_lexer": "ipython3",
   "version": "3.8.3"
  }
 },
 "nbformat": 4,
 "nbformat_minor": 2
}
