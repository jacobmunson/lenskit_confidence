{
 "cells": [
  {
   "cell_type": "code",
   "execution_count": 1,
   "metadata": {},
   "outputs": [],
   "source": [
    "# import sys\n",
    "import pandas as pd\n",
    "import matplotlib.pyplot as plt\n",
    "from lenskit import topn, util #, metrics\n"
   ]
  },
  {
   "cell_type": "code",
   "execution_count": 2,
   "metadata": {
    "scrolled": true
   },
   "outputs": [
    {
     "name": "stdout",
     "output_type": "stream",
     "text": [
      "[   INFO] lenskit.util.log notebook logging configured\n"
     ]
    }
   ],
   "source": [
    "util.log_to_notebook()"
   ]
  },
  {
   "cell_type": "code",
   "execution_count": 3,
   "metadata": {},
   "outputs": [],
   "source": [
    "data = 'ml1m' # 'ml10m'"
   ]
  },
  {
   "cell_type": "code",
   "execution_count": 4,
   "metadata": {},
   "outputs": [],
   "source": [
    "path =  'E:\\\\results_conf_aware_nbhd_KDD2021\\\\' + data + '\\\\confidence_aware\\\\CBPMF\\\\'#  'D:\\\\results_conf_aware_nbhd_KDD2021\\\\' + data + '\\\\baselines\\\\'"
   ]
  },
  {
   "cell_type": "code",
   "execution_count": 5,
   "metadata": {},
   "outputs": [],
   "source": [
    "list_lengths = list((1,2,3,4,5,6,7,8,9,10)) # 20, 30, 40, 50, 60, 70, 80, 90, 100))"
   ]
  },
  {
   "cell_type": "code",
   "execution_count": null,
   "metadata": {},
   "outputs": [],
   "source": []
  },
  {
   "cell_type": "code",
   "execution_count": 6,
   "metadata": {},
   "outputs": [
    {
     "name": "stdout",
     "output_type": "stream",
     "text": [
      "Loading Rec1\n",
      "Loading Rec2\n",
      "Loading Rec3\n",
      "Loading Rec4\n",
      "Loading Rec5\n"
     ]
    }
   ],
   "source": [
    "#list_length = 5\n",
    "\n",
    "# need to make a \"full rec\" and \"full truth\" dataframe\n",
    "print(\"Loading Rec1\")\n",
    "recs_cbpmf1 = pd.read_csv(path + 'recommendations1.csv')\n",
    "recs_cbpmf1 = recs_cbpmf1.drop(columns = ['sigma_ui', 'rating'])\n",
    "recs_cbpmf1 = recs_cbpmf1[recs_cbpmf1['rank'] <= 10]\n",
    "\n",
    "print(\"Loading Rec2\")\n",
    "recs_cbpmf2 = pd.read_csv(path + 'recommendations2.csv')\n",
    "recs_cbpmf2 = recs_cbpmf2.drop(columns = ['sigma_ui', 'rating'])\n",
    "recs_cbpmf2 = recs_cbpmf2[recs_cbpmf2['rank'] <= 10]\n",
    "\n",
    "print(\"Loading Rec3\")\n",
    "recs_cbpmf3 = pd.read_csv(path + 'recommendations3.csv')\n",
    "recs_cbpmf3 = recs_cbpmf3.drop(columns = ['sigma_ui', 'rating'])\n",
    "recs_cbpmf3 = recs_cbpmf3[recs_cbpmf3['rank'] <= 10]\n",
    "\n",
    "print(\"Loading Rec4\")\n",
    "recs_cbpmf4 = pd.read_csv(path + 'recommendations4.csv')\n",
    "recs_cbpmf4 = recs_cbpmf4.drop(columns = ['sigma_ui', 'rating'])\n",
    "recs_cbpmf4 = recs_cbpmf4[recs_cbpmf4['rank'] <= 10]\n",
    "\n",
    "print(\"Loading Rec5\")\n",
    "recs_cbpmf5 = pd.read_csv(path + 'recommendations5.csv')\n",
    "recs_cbpmf5 = recs_cbpmf5.drop(columns = ['sigma_ui', 'rating'])\n",
    "recs_cbpmf5 = recs_cbpmf5[recs_cbpmf5['rank'] <= 10]\n",
    "\n",
    "\n",
    "truth1 = pd.read_csv(path + 'test_set1.csv')\n",
    "truth2 = pd.read_csv(path + 'test_set2.csv')\n",
    "truth3 = pd.read_csv(path + 'test_set3.csv')\n",
    "truth4 = pd.read_csv(path + 'test_set4.csv')\n",
    "truth5 = pd.read_csv(path + 'test_set5.csv')"
   ]
  },
  {
   "cell_type": "code",
   "execution_count": 7,
   "metadata": {},
   "outputs": [],
   "source": [
    "rec_cbpmf = pd.concat([recs_cbpmf1, recs_cbpmf2, recs_cbpmf3, recs_cbpmf4, recs_cbpmf5])"
   ]
  },
  {
   "cell_type": "code",
   "execution_count": 8,
   "metadata": {},
   "outputs": [
    {
     "data": {
      "text/html": [
       "<div>\n",
       "<style scoped>\n",
       "    .dataframe tbody tr th:only-of-type {\n",
       "        vertical-align: middle;\n",
       "    }\n",
       "\n",
       "    .dataframe tbody tr th {\n",
       "        vertical-align: top;\n",
       "    }\n",
       "\n",
       "    .dataframe thead th {\n",
       "        text-align: right;\n",
       "    }\n",
       "</style>\n",
       "<table border=\"1\" class=\"dataframe\">\n",
       "  <thead>\n",
       "    <tr style=\"text-align: right;\">\n",
       "      <th></th>\n",
       "      <th>user</th>\n",
       "      <th>item</th>\n",
       "      <th>score</th>\n",
       "      <th>rank</th>\n",
       "      <th>DataSet</th>\n",
       "      <th>num_feat</th>\n",
       "      <th>cv</th>\n",
       "    </tr>\n",
       "  </thead>\n",
       "  <tbody>\n",
       "    <tr>\n",
       "      <th>0</th>\n",
       "      <td>4649</td>\n",
       "      <td>402</td>\n",
       "      <td>5.376102</td>\n",
       "      <td>1</td>\n",
       "      <td>ml1m</td>\n",
       "      <td>10</td>\n",
       "      <td>1</td>\n",
       "    </tr>\n",
       "    <tr>\n",
       "      <th>1</th>\n",
       "      <td>4649</td>\n",
       "      <td>2198</td>\n",
       "      <td>5.329264</td>\n",
       "      <td>2</td>\n",
       "      <td>ml1m</td>\n",
       "      <td>10</td>\n",
       "      <td>1</td>\n",
       "    </tr>\n",
       "    <tr>\n",
       "      <th>2</th>\n",
       "      <td>4649</td>\n",
       "      <td>3772</td>\n",
       "      <td>4.635590</td>\n",
       "      <td>3</td>\n",
       "      <td>ml1m</td>\n",
       "      <td>10</td>\n",
       "      <td>1</td>\n",
       "    </tr>\n",
       "    <tr>\n",
       "      <th>3</th>\n",
       "      <td>4649</td>\n",
       "      <td>77</td>\n",
       "      <td>4.433696</td>\n",
       "      <td>4</td>\n",
       "      <td>ml1m</td>\n",
       "      <td>10</td>\n",
       "      <td>1</td>\n",
       "    </tr>\n",
       "    <tr>\n",
       "      <th>4</th>\n",
       "      <td>446</td>\n",
       "      <td>2198</td>\n",
       "      <td>4.398075</td>\n",
       "      <td>1</td>\n",
       "      <td>ml1m</td>\n",
       "      <td>10</td>\n",
       "      <td>1</td>\n",
       "    </tr>\n",
       "    <tr>\n",
       "      <th>...</th>\n",
       "      <td>...</td>\n",
       "      <td>...</td>\n",
       "      <td>...</td>\n",
       "      <td>...</td>\n",
       "      <td>...</td>\n",
       "      <td>...</td>\n",
       "      <td>...</td>\n",
       "    </tr>\n",
       "    <tr>\n",
       "      <th>15964469</th>\n",
       "      <td>3598</td>\n",
       "      <td>1144</td>\n",
       "      <td>-0.378973</td>\n",
       "      <td>6</td>\n",
       "      <td>ml1m</td>\n",
       "      <td>10</td>\n",
       "      <td>5</td>\n",
       "    </tr>\n",
       "    <tr>\n",
       "      <th>16741726</th>\n",
       "      <td>3598</td>\n",
       "      <td>3568</td>\n",
       "      <td>-0.419914</td>\n",
       "      <td>7</td>\n",
       "      <td>ml1m</td>\n",
       "      <td>10</td>\n",
       "      <td>5</td>\n",
       "    </tr>\n",
       "    <tr>\n",
       "      <th>17210157</th>\n",
       "      <td>3598</td>\n",
       "      <td>2625</td>\n",
       "      <td>-0.447673</td>\n",
       "      <td>8</td>\n",
       "      <td>ml1m</td>\n",
       "      <td>10</td>\n",
       "      <td>5</td>\n",
       "    </tr>\n",
       "    <tr>\n",
       "      <th>17267919</th>\n",
       "      <td>3598</td>\n",
       "      <td>3781</td>\n",
       "      <td>-0.451319</td>\n",
       "      <td>9</td>\n",
       "      <td>ml1m</td>\n",
       "      <td>10</td>\n",
       "      <td>5</td>\n",
       "    </tr>\n",
       "    <tr>\n",
       "      <th>17352754</th>\n",
       "      <td>3598</td>\n",
       "      <td>3903</td>\n",
       "      <td>-0.456683</td>\n",
       "      <td>10</td>\n",
       "      <td>ml1m</td>\n",
       "      <td>10</td>\n",
       "      <td>5</td>\n",
       "    </tr>\n",
       "  </tbody>\n",
       "</table>\n",
       "<p>302000 rows × 7 columns</p>\n",
       "</div>"
      ],
      "text/plain": [
       "          user  item     score  rank DataSet  num_feat  cv\n",
       "0         4649   402  5.376102     1    ml1m        10   1\n",
       "1         4649  2198  5.329264     2    ml1m        10   1\n",
       "2         4649  3772  4.635590     3    ml1m        10   1\n",
       "3         4649    77  4.433696     4    ml1m        10   1\n",
       "4          446  2198  4.398075     1    ml1m        10   1\n",
       "...        ...   ...       ...   ...     ...       ...  ..\n",
       "15964469  3598  1144 -0.378973     6    ml1m        10   5\n",
       "16741726  3598  3568 -0.419914     7    ml1m        10   5\n",
       "17210157  3598  2625 -0.447673     8    ml1m        10   5\n",
       "17267919  3598  3781 -0.451319     9    ml1m        10   5\n",
       "17352754  3598  3903 -0.456683    10    ml1m        10   5\n",
       "\n",
       "[302000 rows x 7 columns]"
      ]
     },
     "execution_count": 8,
     "metadata": {},
     "output_type": "execute_result"
    }
   ],
   "source": [
    "rec_cbpmf"
   ]
  },
  {
   "cell_type": "code",
   "execution_count": 9,
   "metadata": {},
   "outputs": [],
   "source": [
    "truth = pd.concat([truth1, truth2, truth3, truth4, truth5])"
   ]
  },
  {
   "cell_type": "code",
   "execution_count": 10,
   "metadata": {
    "scrolled": false
   },
   "outputs": [],
   "source": [
    "del([recs_cbpmf1, recs_cbpmf2, recs_cbpmf3, recs_cbpmf4, recs_cbpmf5])"
   ]
  },
  {
   "cell_type": "code",
   "execution_count": 11,
   "metadata": {},
   "outputs": [],
   "source": [
    "del([truth1, truth2, truth3, truth4, truth5])"
   ]
  },
  {
   "cell_type": "code",
   "execution_count": 12,
   "metadata": {
    "scrolled": true
   },
   "outputs": [
    {
     "name": "stdout",
     "output_type": "stream",
     "text": [
      "1\n",
      "at compute stage\n",
      "[   INFO] lenskit.topn analyzing 30200 recommendations (501045 truth rows)\n",
      "[   INFO] lenskit.topn using rec key columns ['num_feat', 'user', 'DataSet', 'cv']\n",
      "[   INFO] lenskit.topn using truth key columns ['user', 'DataSet', 'cv']\n",
      "[   INFO] lenskit.topn collecting truth data\n",
      "[   INFO] lenskit.topn collecting metric results\n",
      "[   INFO] lenskit.util.parallel setting up in-process worker\n"
     ]
    },
    {
     "ename": "KeyError",
     "evalue": "(12, 'ml1m', 5)",
     "output_type": "error",
     "traceback": [
      "\u001b[1;31m---------------------------------------------------------------------------\u001b[0m",
      "\u001b[1;31mKeyError\u001b[0m                                  Traceback (most recent call last)",
      "\u001b[1;32m<ipython-input-12-09ef8558a681>\u001b[0m in \u001b[0;36m<module>\u001b[1;34m()\u001b[0m\n\u001b[0;32m      7\u001b[0m     \u001b[0mrec_cbpmf_reduced\u001b[0m \u001b[1;33m=\u001b[0m \u001b[0mrec_cbpmf\u001b[0m\u001b[1;33m[\u001b[0m\u001b[0mrec_cbpmf\u001b[0m\u001b[1;33m[\u001b[0m\u001b[1;34m'rank'\u001b[0m\u001b[1;33m]\u001b[0m \u001b[1;33m<=\u001b[0m \u001b[0mlist_length\u001b[0m\u001b[1;33m]\u001b[0m\u001b[1;33m\u001b[0m\u001b[1;33m\u001b[0m\u001b[0m\n\u001b[0;32m      8\u001b[0m \u001b[1;33m\u001b[0m\u001b[0m\n\u001b[1;32m----> 9\u001b[1;33m     \u001b[0mraw_ndcg\u001b[0m \u001b[1;33m=\u001b[0m \u001b[0mrla\u001b[0m\u001b[1;33m.\u001b[0m\u001b[0mcompute\u001b[0m\u001b[1;33m(\u001b[0m\u001b[0mrec_cbpmf_reduced\u001b[0m\u001b[1;33m,\u001b[0m \u001b[0mtruth\u001b[0m\u001b[1;33m)\u001b[0m\u001b[1;33m\u001b[0m\u001b[1;33m\u001b[0m\u001b[0m\n\u001b[0m\u001b[0;32m     10\u001b[0m     \u001b[1;31m#raw_ndcg.head()\u001b[0m\u001b[1;33m\u001b[0m\u001b[1;33m\u001b[0m\u001b[1;33m\u001b[0m\u001b[0m\n\u001b[0;32m     11\u001b[0m \u001b[1;33m\u001b[0m\u001b[0m\n",
      "\u001b[1;32mC:\\Users\\Jacob\\Anaconda3\\envs\\lenskit_conf_numba_scipy\\lib\\site-packages\\lenskit\\topn.py\u001b[0m in \u001b[0;36mcompute\u001b[1;34m(self, recs, truth, include_missing)\u001b[0m\n\u001b[0;32m    174\u001b[0m         \u001b[0mtimer\u001b[0m \u001b[1;33m=\u001b[0m \u001b[0mStopwatch\u001b[0m\u001b[1;33m(\u001b[0m\u001b[1;33m)\u001b[0m\u001b[1;33m\u001b[0m\u001b[1;33m\u001b[0m\u001b[0m\n\u001b[0;32m    175\u001b[0m         \u001b[0m_log\u001b[0m\u001b[1;33m.\u001b[0m\u001b[0minfo\u001b[0m\u001b[1;33m(\u001b[0m\u001b[1;34m'collecting metric results'\u001b[0m\u001b[1;33m)\u001b[0m\u001b[1;33m\u001b[0m\u001b[1;33m\u001b[0m\u001b[0m\n\u001b[1;32m--> 176\u001b[1;33m         \u001b[0mres\u001b[0m \u001b[1;33m=\u001b[0m \u001b[0mjob\u001b[0m\u001b[1;33m.\u001b[0m\u001b[0mcompute\u001b[0m\u001b[1;33m(\u001b[0m\u001b[0mself\u001b[0m\u001b[1;33m.\u001b[0m\u001b[0mn_jobs\u001b[0m\u001b[1;33m)\u001b[0m\u001b[1;33m\u001b[0m\u001b[1;33m\u001b[0m\u001b[0m\n\u001b[0m\u001b[0;32m    177\u001b[0m         \u001b[0m_log\u001b[0m\u001b[1;33m.\u001b[0m\u001b[0minfo\u001b[0m\u001b[1;33m(\u001b[0m\u001b[1;34m'measured %d lists in %s'\u001b[0m\u001b[1;33m,\u001b[0m \u001b[0mlen\u001b[0m\u001b[1;33m(\u001b[0m\u001b[0mres\u001b[0m\u001b[1;33m)\u001b[0m\u001b[1;33m,\u001b[0m \u001b[0mtimer\u001b[0m\u001b[1;33m)\u001b[0m\u001b[1;33m\u001b[0m\u001b[1;33m\u001b[0m\u001b[0m\n\u001b[0;32m    178\u001b[0m \u001b[1;33m\u001b[0m\u001b[0m\n",
      "\u001b[1;32mC:\\Users\\Jacob\\Anaconda3\\envs\\lenskit_conf_numba_scipy\\lib\\site-packages\\lenskit\\topn.py\u001b[0m in \u001b[0;36mcompute\u001b[1;34m(self, n_jobs)\u001b[0m\n\u001b[0;32m     65\u001b[0m         \u001b[1;32mwith\u001b[0m \u001b[0minvoker\u001b[0m\u001b[1;33m(\u001b[0m\u001b[0mself\u001b[0m\u001b[1;33m,\u001b[0m \u001b[0m_rla_worker\u001b[0m\u001b[1;33m,\u001b[0m \u001b[0mn_jobs\u001b[0m\u001b[1;33m)\u001b[0m \u001b[1;32mas\u001b[0m \u001b[0mloop\u001b[0m\u001b[1;33m:\u001b[0m\u001b[1;33m\u001b[0m\u001b[1;33m\u001b[0m\u001b[0m\n\u001b[0;32m     66\u001b[0m             \u001b[0mres\u001b[0m \u001b[1;33m=\u001b[0m \u001b[0mloop\u001b[0m\u001b[1;33m.\u001b[0m\u001b[0mmap\u001b[0m\u001b[1;33m(\u001b[0m\u001b[1;33m(\u001b[0m\u001b[0mfirst\u001b[0m\u001b[1;33m,\u001b[0m \u001b[0mv\u001b[0m\u001b[1;33m)\u001b[0m \u001b[1;32mfor\u001b[0m \u001b[0mv\u001b[0m \u001b[1;32min\u001b[0m \u001b[0mbins\u001b[0m\u001b[1;33m.\u001b[0m\u001b[0mindex\u001b[0m\u001b[1;33m.\u001b[0m\u001b[0mvalues\u001b[0m\u001b[1;33m)\u001b[0m\u001b[1;33m\u001b[0m\u001b[1;33m\u001b[0m\u001b[0m\n\u001b[1;32m---> 67\u001b[1;33m             \u001b[0mres\u001b[0m \u001b[1;33m=\u001b[0m \u001b[0mpd\u001b[0m\u001b[1;33m.\u001b[0m\u001b[0mconcat\u001b[0m\u001b[1;33m(\u001b[0m\u001b[0mres\u001b[0m\u001b[1;33m,\u001b[0m \u001b[0mignore_index\u001b[0m\u001b[1;33m=\u001b[0m\u001b[1;32mTrue\u001b[0m\u001b[1;33m)\u001b[0m\u001b[1;33m\u001b[0m\u001b[1;33m\u001b[0m\u001b[0m\n\u001b[0m\u001b[0;32m     68\u001b[0m \u001b[1;33m\u001b[0m\u001b[0m\n\u001b[0;32m     69\u001b[0m         \u001b[1;32mreturn\u001b[0m \u001b[0mres\u001b[0m\u001b[1;33m.\u001b[0m\u001b[0mset_index\u001b[0m\u001b[1;33m(\u001b[0m\u001b[0mself\u001b[0m\u001b[1;33m.\u001b[0m\u001b[0mrec_key\u001b[0m\u001b[1;33m)\u001b[0m\u001b[1;33m\u001b[0m\u001b[1;33m\u001b[0m\u001b[0m\n",
      "\u001b[1;32mC:\\Users\\Jacob\\Anaconda3\\envs\\lenskit_conf_numba_scipy\\lib\\site-packages\\pandas\\core\\reshape\\concat.py\u001b[0m in \u001b[0;36mconcat\u001b[1;34m(objs, axis, join, ignore_index, keys, levels, names, verify_integrity, sort, copy)\u001b[0m\n\u001b[0;32m    293\u001b[0m         \u001b[0mverify_integrity\u001b[0m\u001b[1;33m=\u001b[0m\u001b[0mverify_integrity\u001b[0m\u001b[1;33m,\u001b[0m\u001b[1;33m\u001b[0m\u001b[1;33m\u001b[0m\u001b[0m\n\u001b[0;32m    294\u001b[0m         \u001b[0mcopy\u001b[0m\u001b[1;33m=\u001b[0m\u001b[0mcopy\u001b[0m\u001b[1;33m,\u001b[0m\u001b[1;33m\u001b[0m\u001b[1;33m\u001b[0m\u001b[0m\n\u001b[1;32m--> 295\u001b[1;33m         \u001b[0msort\u001b[0m\u001b[1;33m=\u001b[0m\u001b[0msort\u001b[0m\u001b[1;33m,\u001b[0m\u001b[1;33m\u001b[0m\u001b[1;33m\u001b[0m\u001b[0m\n\u001b[0m\u001b[0;32m    296\u001b[0m     )\n\u001b[0;32m    297\u001b[0m \u001b[1;33m\u001b[0m\u001b[0m\n",
      "\u001b[1;32mC:\\Users\\Jacob\\Anaconda3\\envs\\lenskit_conf_numba_scipy\\lib\\site-packages\\pandas\\core\\reshape\\concat.py\u001b[0m in \u001b[0;36m__init__\u001b[1;34m(self, objs, axis, join, keys, levels, names, ignore_index, verify_integrity, copy, sort)\u001b[0m\n\u001b[0;32m    337\u001b[0m             \u001b[0mobjs\u001b[0m \u001b[1;33m=\u001b[0m \u001b[1;33m[\u001b[0m\u001b[0mobjs\u001b[0m\u001b[1;33m[\u001b[0m\u001b[0mk\u001b[0m\u001b[1;33m]\u001b[0m \u001b[1;32mfor\u001b[0m \u001b[0mk\u001b[0m \u001b[1;32min\u001b[0m \u001b[0mkeys\u001b[0m\u001b[1;33m]\u001b[0m\u001b[1;33m\u001b[0m\u001b[1;33m\u001b[0m\u001b[0m\n\u001b[0;32m    338\u001b[0m         \u001b[1;32melse\u001b[0m\u001b[1;33m:\u001b[0m\u001b[1;33m\u001b[0m\u001b[1;33m\u001b[0m\u001b[0m\n\u001b[1;32m--> 339\u001b[1;33m             \u001b[0mobjs\u001b[0m \u001b[1;33m=\u001b[0m \u001b[0mlist\u001b[0m\u001b[1;33m(\u001b[0m\u001b[0mobjs\u001b[0m\u001b[1;33m)\u001b[0m\u001b[1;33m\u001b[0m\u001b[1;33m\u001b[0m\u001b[0m\n\u001b[0m\u001b[0;32m    340\u001b[0m \u001b[1;33m\u001b[0m\u001b[0m\n\u001b[0;32m    341\u001b[0m         \u001b[1;32mif\u001b[0m \u001b[0mlen\u001b[0m\u001b[1;33m(\u001b[0m\u001b[0mobjs\u001b[0m\u001b[1;33m)\u001b[0m \u001b[1;33m==\u001b[0m \u001b[1;36m0\u001b[0m\u001b[1;33m:\u001b[0m\u001b[1;33m\u001b[0m\u001b[1;33m\u001b[0m\u001b[0m\n",
      "\u001b[1;32mC:\\Users\\Jacob\\Anaconda3\\envs\\lenskit_conf_numba_scipy\\lib\\site-packages\\lenskit\\topn.py\u001b[0m in \u001b[0;36m_rla_worker\u001b[1;34m(model, req)\u001b[0m\n\u001b[0;32m     35\u001b[0m \u001b[1;32mdef\u001b[0m \u001b[0m_rla_worker\u001b[0m\u001b[1;33m(\u001b[0m\u001b[0mmodel\u001b[0m\u001b[1;33m,\u001b[0m \u001b[0mreq\u001b[0m\u001b[1;33m)\u001b[0m\u001b[1;33m:\u001b[0m\u001b[1;33m\u001b[0m\u001b[1;33m\u001b[0m\u001b[0m\n\u001b[0;32m     36\u001b[0m     \u001b[0mcol\u001b[0m\u001b[1;33m,\u001b[0m \u001b[0mval\u001b[0m \u001b[1;33m=\u001b[0m \u001b[0mreq\u001b[0m\u001b[1;33m\u001b[0m\u001b[1;33m\u001b[0m\u001b[0m\n\u001b[1;32m---> 37\u001b[1;33m     \u001b[1;32mreturn\u001b[0m \u001b[0mmodel\u001b[0m\u001b[1;33m.\u001b[0m\u001b[0m_compute_group\u001b[0m\u001b[1;33m(\u001b[0m\u001b[0mcol\u001b[0m\u001b[1;33m,\u001b[0m \u001b[0mval\u001b[0m\u001b[1;33m)\u001b[0m\u001b[1;33m\u001b[0m\u001b[1;33m\u001b[0m\u001b[0m\n\u001b[0m\u001b[0;32m     38\u001b[0m \u001b[1;33m\u001b[0m\u001b[0m\n\u001b[0;32m     39\u001b[0m \u001b[1;33m\u001b[0m\u001b[0m\n",
      "\u001b[1;32mC:\\Users\\Jacob\\Anaconda3\\envs\\lenskit_conf_numba_scipy\\lib\\site-packages\\lenskit\\topn.py\u001b[0m in \u001b[0;36m_compute_group\u001b[1;34m(self, col, val)\u001b[0m\n\u001b[0;32m     73\u001b[0m         \u001b[0mmnames\u001b[0m \u001b[1;33m=\u001b[0m \u001b[1;33m[\u001b[0m\u001b[0mmn\u001b[0m \u001b[1;32mfor\u001b[0m \u001b[1;33m(\u001b[0m\u001b[0mmf\u001b[0m\u001b[1;33m,\u001b[0m \u001b[0mmn\u001b[0m\u001b[1;33m,\u001b[0m \u001b[0mmargs\u001b[0m\u001b[1;33m)\u001b[0m \u001b[1;32min\u001b[0m \u001b[0mself\u001b[0m\u001b[1;33m.\u001b[0m\u001b[0mmetrics\u001b[0m\u001b[1;33m]\u001b[0m\u001b[1;33m\u001b[0m\u001b[1;33m\u001b[0m\u001b[0m\n\u001b[0;32m     74\u001b[0m         \u001b[0mgen\u001b[0m \u001b[1;33m=\u001b[0m \u001b[0mself\u001b[0m\u001b[1;33m.\u001b[0m\u001b[0m_iter_measurements\u001b[0m\u001b[1;33m(\u001b[0m\u001b[0mcol\u001b[0m\u001b[1;33m,\u001b[0m \u001b[0mval\u001b[0m\u001b[1;33m)\u001b[0m\u001b[1;33m\u001b[0m\u001b[1;33m\u001b[0m\u001b[0m\n\u001b[1;32m---> 75\u001b[1;33m         \u001b[1;32mreturn\u001b[0m \u001b[0mpd\u001b[0m\u001b[1;33m.\u001b[0m\u001b[0mDataFrame\u001b[0m\u001b[1;33m.\u001b[0m\u001b[0mfrom_records\u001b[0m\u001b[1;33m(\u001b[0m\u001b[0mgen\u001b[0m\u001b[1;33m,\u001b[0m \u001b[0mcolumns\u001b[0m\u001b[1;33m=\u001b[0m\u001b[0mself\u001b[0m\u001b[1;33m.\u001b[0m\u001b[0mrec_key\u001b[0m \u001b[1;33m+\u001b[0m \u001b[0mmnames\u001b[0m\u001b[1;33m)\u001b[0m\u001b[1;33m\u001b[0m\u001b[1;33m\u001b[0m\u001b[0m\n\u001b[0m\u001b[0;32m     76\u001b[0m \u001b[1;33m\u001b[0m\u001b[0m\n\u001b[0;32m     77\u001b[0m     \u001b[1;32mdef\u001b[0m \u001b[0m_iter_measurements\u001b[0m\u001b[1;33m(\u001b[0m\u001b[0mself\u001b[0m\u001b[1;33m,\u001b[0m \u001b[0mcol\u001b[0m\u001b[1;33m,\u001b[0m \u001b[0mval\u001b[0m\u001b[1;33m)\u001b[0m\u001b[1;33m:\u001b[0m\u001b[1;33m\u001b[0m\u001b[1;33m\u001b[0m\u001b[0m\n",
      "\u001b[1;32mC:\\Users\\Jacob\\Anaconda3\\envs\\lenskit_conf_numba_scipy\\lib\\site-packages\\pandas\\core\\frame.py\u001b[0m in \u001b[0;36mfrom_records\u001b[1;34m(cls, data, index, exclude, columns, coerce_float, nrows)\u001b[0m\n\u001b[0;32m   1824\u001b[0m \u001b[1;33m\u001b[0m\u001b[0m\n\u001b[0;32m   1825\u001b[0m             \u001b[1;32mif\u001b[0m \u001b[0mnrows\u001b[0m \u001b[1;32mis\u001b[0m \u001b[1;32mNone\u001b[0m\u001b[1;33m:\u001b[0m\u001b[1;33m\u001b[0m\u001b[1;33m\u001b[0m\u001b[0m\n\u001b[1;32m-> 1826\u001b[1;33m                 \u001b[0mvalues\u001b[0m \u001b[1;33m+=\u001b[0m \u001b[0mdata\u001b[0m\u001b[1;33m\u001b[0m\u001b[1;33m\u001b[0m\u001b[0m\n\u001b[0m\u001b[0;32m   1827\u001b[0m             \u001b[1;32melse\u001b[0m\u001b[1;33m:\u001b[0m\u001b[1;33m\u001b[0m\u001b[1;33m\u001b[0m\u001b[0m\n\u001b[0;32m   1828\u001b[0m                 \u001b[0mvalues\u001b[0m\u001b[1;33m.\u001b[0m\u001b[0mextend\u001b[0m\u001b[1;33m(\u001b[0m\u001b[0mitertools\u001b[0m\u001b[1;33m.\u001b[0m\u001b[0mislice\u001b[0m\u001b[1;33m(\u001b[0m\u001b[0mdata\u001b[0m\u001b[1;33m,\u001b[0m \u001b[0mnrows\u001b[0m \u001b[1;33m-\u001b[0m \u001b[1;36m1\u001b[0m\u001b[1;33m)\u001b[0m\u001b[1;33m)\u001b[0m\u001b[1;33m\u001b[0m\u001b[1;33m\u001b[0m\u001b[0m\n",
      "\u001b[1;32mC:\\Users\\Jacob\\Anaconda3\\envs\\lenskit_conf_numba_scipy\\lib\\site-packages\\lenskit\\topn.py\u001b[0m in \u001b[0;36m_iter_measurements\u001b[1;34m(self, col, val)\u001b[0m\n\u001b[0;32m     84\u001b[0m                 \u001b[0mrk\u001b[0m \u001b[1;33m=\u001b[0m \u001b[1;33m(\u001b[0m\u001b[0mval\u001b[0m\u001b[1;33m,\u001b[0m\u001b[1;33m)\u001b[0m \u001b[1;33m+\u001b[0m \u001b[0mrk\u001b[0m\u001b[1;33m\u001b[0m\u001b[1;33m\u001b[0m\u001b[0m\n\u001b[0;32m     85\u001b[0m                 \u001b[0mtk\u001b[0m \u001b[1;33m=\u001b[0m \u001b[0mrk\u001b[0m\u001b[1;33m[\u001b[0m\u001b[1;33m-\u001b[0m\u001b[0mnt\u001b[0m\u001b[1;33m:\u001b[0m\u001b[1;33m]\u001b[0m\u001b[1;33m\u001b[0m\u001b[1;33m\u001b[0m\u001b[0m\n\u001b[1;32m---> 86\u001b[1;33m                 \u001b[0mg_truth\u001b[0m \u001b[1;33m=\u001b[0m \u001b[0mself\u001b[0m\u001b[1;33m.\u001b[0m\u001b[0mtruth\u001b[0m\u001b[1;33m[\u001b[0m\u001b[0mtk\u001b[0m\u001b[1;33m]\u001b[0m\u001b[1;33m\u001b[0m\u001b[1;33m\u001b[0m\u001b[0m\n\u001b[0m\u001b[0;32m     87\u001b[0m                 \u001b[0mresults\u001b[0m \u001b[1;33m=\u001b[0m \u001b[0mtuple\u001b[0m\u001b[1;33m(\u001b[0m\u001b[0mmf\u001b[0m\u001b[1;33m(\u001b[0m\u001b[0mgdf\u001b[0m\u001b[1;33m,\u001b[0m \u001b[0mg_truth\u001b[0m\u001b[1;33m,\u001b[0m \u001b[1;33m**\u001b[0m\u001b[0mmargs\u001b[0m\u001b[1;33m)\u001b[0m \u001b[1;32mfor\u001b[0m \u001b[1;33m(\u001b[0m\u001b[0mmf\u001b[0m\u001b[1;33m,\u001b[0m \u001b[0mmn\u001b[0m\u001b[1;33m,\u001b[0m \u001b[0mmargs\u001b[0m\u001b[1;33m)\u001b[0m \u001b[1;32min\u001b[0m \u001b[0mself\u001b[0m\u001b[1;33m.\u001b[0m\u001b[0mmetrics\u001b[0m\u001b[1;33m)\u001b[0m\u001b[1;33m\u001b[0m\u001b[1;33m\u001b[0m\u001b[0m\n\u001b[0;32m     88\u001b[0m                 \u001b[1;32myield\u001b[0m \u001b[0mrk\u001b[0m \u001b[1;33m+\u001b[0m \u001b[0mresults\u001b[0m\u001b[1;33m\u001b[0m\u001b[1;33m\u001b[0m\u001b[0m\n",
      "\u001b[1;31mKeyError\u001b[0m: (12, 'ml1m', 5)"
     ]
    }
   ],
   "source": [
    "for list_length in list_lengths: # a simple loop to compute TopN results for each list length\n",
    "    print(list_length)\n",
    "    rla = topn.RecListAnalysis()\n",
    "    rla.add_metric(topn.ndcg) # precision, recall, recip_rank, dcg, ndcg\n",
    "    rla.add_metric(topn.precision)\n",
    "    print(\"at compute stage\")\n",
    "    rec_cbpmf_reduced = rec_cbpmf[rec_cbpmf['rank'] <= list_length]\n",
    "    \n",
    "    raw_ndcg = rla.compute(rec_cbpmf_reduced, truth)\n",
    "    #raw_ndcg.head()\n",
    "    \n",
    "    raw_ndcg.fillna(0).groupby(['num_feat'])[['ndcg','precision']].mean() # .groupby(['name', 'nnbrs'])\n",
    "    raw_ndcg.fillna(0).groupby(['num_feat'])['ndcg','precision'].mean().to_csv(path + 'results\\\\results' + str(eval('list_length')) + '.csv')\n"
   ]
  },
  {
   "cell_type": "code",
   "execution_count": null,
   "metadata": {
    "scrolled": true
   },
   "outputs": [],
   "source": [
    "for list_length in list_lengths: # a simple loop to compute TopN results for each list length\n",
    "    print(list_length)\n",
    "    rla = topn.RecListAnalysis()\n",
    "    rla.add_metric(topn.ndcg) # precision, recall, recip_rank, dcg, ndcg\n",
    "    rla.add_metric(topn.precision)\n",
    "    print(\"at compute stage\")\n",
    "    recs_bpmf_reduced = recs_bpmf[recs_bpmf['rank'] <= list_length]\n",
    "    \n",
    "    raw_ndcg = rla.compute(recs_bpmf_reduced, truth)\n",
    "    #raw_ndcg.head()\n",
    "    \n",
    "    raw_ndcg.fillna(0).groupby(['num_feat'])[['ndcg','precision']].mean() # .groupby(['name', 'nnbrs'])\n",
    "    raw_ndcg.fillna(0).groupby(['num_feat'])['ndcg','precision'].mean().to_csv(path + 'bpmf\\\\results\\\\results' + str(eval('list_length')) + '.csv')\n"
   ]
  }
 ],
 "metadata": {
  "kernelspec": {
   "display_name": "Python 3",
   "language": "python",
   "name": "python3"
  },
  "language_info": {
   "codemirror_mode": {
    "name": "ipython",
    "version": 3
   },
   "file_extension": ".py",
   "mimetype": "text/x-python",
   "name": "python",
   "nbconvert_exporter": "python",
   "pygments_lexer": "ipython3",
   "version": "3.7.9"
  }
 },
 "nbformat": 4,
 "nbformat_minor": 4
}
